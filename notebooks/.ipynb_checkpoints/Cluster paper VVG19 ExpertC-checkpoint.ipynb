{
 "cells": [
  {
   "cell_type": "markdown",
   "id": "0add6709-5504-477b-8e2a-4f52e27ffb05",
   "metadata": {},
   "source": [
    "# KS ANALYSIS FOR VGG19\n",
    "\n",
    "\n",
    "The effect of the image enhancement operator is computed using this function: \n",
    "\n",
    "\\begin{equation}\n",
    "L_{\\mathrm{out}} = \\frac{L_{\\mathrm{in}}^{\\gamma}}{L_{\\mathrm{in}}^{\\gamma} + \\mu^{\\gamma}} \n",
    "\\end{equation}\n",
    "\n",
    "See paper for more details"
   ]
  },
  {
   "cell_type": "code",
   "execution_count": 1,
   "id": "a58eaa9e-8e25-427e-ba23-73fbbbd70e1e",
   "metadata": {},
   "outputs": [],
   "source": [
    "import pandas as pd\n",
    "import numpy as np\n",
    "import matplotlib.pyplot as plt\n",
    "from scipy import stats\n",
    "import seaborn as sns\n",
    "import matplotlib.pylab as plt\n",
    "from matplotlib.colors import LinearSegmentedColormap"
   ]
  },
  {
   "cell_type": "code",
   "execution_count": 2,
   "id": "a1473fb5-e9b4-4647-8d65-8f6ff36c9f0d",
   "metadata": {},
   "outputs": [],
   "source": [
    "def cluster_names(df,\n",
    "                  column_names,\n",
    "                  red_column_names,\n",
    "                  name_thr=0.6,\n",
    "                  add_names_column=True):\n",
    "    \n",
    "    df_labels = list(set(df[\"labels\"].values))\n",
    "    \n",
    "    cluster_names = []\n",
    "    cluster_counts = []\n",
    "    \n",
    "    for label in df_labels:\n",
    "        df_cluster = df[df[\"labels\"]==label]\n",
    "        \n",
    "        df_cluster_counts = df_cluster[column_names].sum().values / len(df_cluster)\n",
    "        df_cluster_counts = np.where(df_cluster_counts <= name_thr, df_cluster_counts, 1.0)\n",
    "        df_cluster_counts = np.where(df_cluster_counts > name_thr, df_cluster_counts, 0.0)\n",
    "        \n",
    "        clust_name = \"\"\n",
    "        for j, count in enumerate(df_cluster_counts):   \n",
    "            if count == 1:\n",
    "                clust_name += red_column_names[j] \n",
    "        \n",
    "        cluster_names.append(clust_name)\n",
    "        cluster_counts.append(df_cluster_counts)\n",
    "        \n",
    "      \n",
    "    cluster_names =  cluster_names[:-1] + [\"UN\"]\n",
    "\n",
    "    if add_names_column:\n",
    "        map_label_names = {}\n",
    "        \n",
    "        for j, c_name in enumerate(cluster_names):\n",
    "            if j == len(cluster_names)-1:\n",
    "                j = -1\n",
    "            map_label_names[j] = c_name\n",
    "        \n",
    "        df[\"label_name\"] = df[\"labels\"].map(map_label_names)\n",
    "\n",
    "    return cluster_names, cluster_counts"
   ]
  },
  {
   "cell_type": "code",
   "execution_count": 3,
   "id": "8aff54e1-ef1d-4709-89b0-d7657dfceb53",
   "metadata": {},
   "outputs": [],
   "source": [
    "def assign_luminosity_level(df):\n",
    "    df[\"luminosity\"] = [\"0low lum\"]*len(df)\n",
    "    df.loc[df[\"avg lum\"] == 1 , \"luminosity\"] = \"1avg lum\"\n",
    "    df.loc[df[\"high lum\"] == 1 , \"luminosity\"] = \"2high lum\"\n",
    "    return None"
   ]
  },
  {
   "cell_type": "code",
   "execution_count": 4,
   "id": "bcded56a-b3be-46a5-bff8-2456c93c48bc",
   "metadata": {},
   "outputs": [],
   "source": [
    "def plot_parameter_distribution_per_luminosity(df, param=\"a\", n_bins=50):\n",
    "    df = df[df[\"b\"] < 1e10]\n",
    "    df = df[df[\"a\"] < 1e10]\n",
    "    RD_a_low = df[df[\"luminosity\"]==\"0low lum\"][param].values\n",
    "    RD_a_avg = df[df[\"luminosity\"]==\"1avg lum\"][param].values\n",
    "    RD_a_high = df[df[\"luminosity\"]==\"2high lum\"][param].values\n",
    "    \n",
    "    plt.hist(RD_a_low, n_bins, weights=np.ones(len(RD_a_low)) / len(RD_a_low), color=\"r\", label=\"low\",alpha=0.3)\n",
    "    plt.hist(RD_a_avg, n_bins, weights=np.ones(len(RD_a_avg)) / len(RD_a_avg), color=\"b\", label=\"avg\",alpha=0.3)\n",
    "    plt.hist(RD_a_high, n_bins, weights=np.ones(len(RD_a_high)) / len(RD_a_high), color=\"g\", label=\"low\",alpha=0.3)\n",
    "    \n",
    "    plt.legend()\n",
    "    if param == \"a\":\n",
    "        title = r\"$\\gamma$\"\n",
    "    elif param == \"b\":\n",
    "        title = r\"$\\mu$\"\n",
    "    else:\n",
    "        title = param\n",
    "    plt.title(title)"
   ]
  },
  {
   "cell_type": "code",
   "execution_count": 5,
   "id": "9885e540-f6c0-4dc8-bb2d-733f48d4b155",
   "metadata": {},
   "outputs": [],
   "source": [
    "def param_distr_per_feature(df, feature):\n",
    "    \n",
    "    features = list(set(df[feature].values))\n",
    "    a_feature = []\n",
    "    b_feature = []\n",
    "    \n",
    "    for j in features:\n",
    "        a_feature.append(df[df[feature]==j][\"a\"].values)\n",
    "        b_feature.append(df[df[feature]==j][\"b\"].values)\n",
    "\n",
    "    return a_feature, b_feature"
   ]
  },
  {
   "cell_type": "code",
   "execution_count": 6,
   "id": "4b5db0d1-f851-46c1-a2ba-1e2d752e0aa0",
   "metadata": {},
   "outputs": [],
   "source": [
    "def ks_test(p_distributions, p_names, plot=True, alpha=0.05, title=None, cbar=False, save_path=''):\n",
    "    \n",
    "    p_values = []\n",
    "    \n",
    "    for i in range(len(p_distributions)):\n",
    "        p_value_i = []\n",
    "        for k in range(len(p_distributions)):\n",
    "            p_value_ij = stats.ks_2samp(p_distributions[i], p_distributions[k])[1] <= alpha\n",
    "            p_value_i.append(p_value_ij)\n",
    "        p_values.append(p_value_i)\n",
    "        \n",
    "    if plot:\n",
    "        mask = np.zeros_like(p_values)\n",
    "        mask[np.triu_indices_from(mask)] = True\n",
    "        \n",
    "        colors = [\"red\", \"green\"] \n",
    "        cmap = LinearSegmentedColormap.from_list('Custom', colors, len(colors))\n",
    "        \n",
    "        ax = sns.heatmap(p_values, mask=mask, linewidth=0.5, xticklabels=p_names, yticklabels=p_names, cmap=cmap, vmin=0.0, vmax=1.0, cbar=cbar)\n",
    "\n",
    "        if cbar == True:\n",
    "            colorbar = ax.collections[0].colorbar\n",
    "            colorbar.set_ticks([0.25,0.75])\n",
    "            colorbar.set_ticklabels(['False', 'True'])\n",
    "        \n",
    "        ax.set_title(title)\n",
    "        \n",
    "        if save_path != '':\n",
    "            plt.savefig(save_path)\n",
    "            \n",
    "    return p_values"
   ]
  },
  {
   "cell_type": "code",
   "execution_count": 7,
   "id": "8dce441c-b4ec-48ca-b984-b48739486a2b",
   "metadata": {},
   "outputs": [],
   "source": [
    "def plot_a_b_per_group(df, group_name, q_low=0.40, q_high=0.60):\n",
    "    \n",
    "    median_fits_values = df[[\"a\", \"b\", \"mse_err\", group_name]].groupby(group_name, as_index=False).quantile()\n",
    "    median_fits_values_low = df[[\"a\", \"b\", \"mse_err\", group_name]].groupby(group_name, as_index=False).quantile(q=q_low)\n",
    "    median_fits_values_high = df[[\"a\", \"b\", \"mse_err\", group_name]].groupby(group_name, as_index=False).quantile(q=q_high)\n",
    "    \n",
    "    for j in range(len(median_fits_values)):\n",
    "        \n",
    "        aerr = (median_fits_values_high.iloc[j][\"a\"] - median_fits_values_low.iloc[j][\"a\"])/2.\n",
    "        berr = (median_fits_values_high.iloc[j][\"b\"] - median_fits_values_low.iloc[j][\"b\"])/2.0\n",
    "        \n",
    "        plt.errorbar(median_fits_values.iloc[j][\"a\"],\n",
    "             median_fits_values.iloc[j][\"b\"],\n",
    "             xerr=aerr,\n",
    "             yerr=berr,\n",
    "             fmt=\"o\",\n",
    "             label=median_fits_values.iloc[j][group_name])\n",
    "        \n",
    "    plt.xlabel(r\"$\\gamma$\")\n",
    "    plt.ylabel(r\"$\\mu$\")\n",
    "    plt.legend()\n",
    "    plt.show()"
   ]
  },
  {
   "cell_type": "code",
   "execution_count": 8,
   "id": "d06acf42-7a89-48f6-8445-926ddde16271",
   "metadata": {},
   "outputs": [],
   "source": [
    "clusters_df_vgg = pd.read_csv(\"../data/clusters/mit5k_big_vgg19_train_labels.csv\")"
   ]
  },
  {
   "cell_type": "code",
   "execution_count": 9,
   "id": "0dbf4cdc-bd65-43ec-847c-682c1fccb0e9",
   "metadata": {},
   "outputs": [
    {
     "data": {
      "text/html": [
       "<div>\n",
       "<style scoped>\n",
       "    .dataframe tbody tr th:only-of-type {\n",
       "        vertical-align: middle;\n",
       "    }\n",
       "\n",
       "    .dataframe tbody tr th {\n",
       "        vertical-align: top;\n",
       "    }\n",
       "\n",
       "    .dataframe thead th {\n",
       "        text-align: right;\n",
       "    }\n",
       "</style>\n",
       "<table border=\"1\" class=\"dataframe\">\n",
       "  <thead>\n",
       "    <tr style=\"text-align: right;\">\n",
       "      <th></th>\n",
       "      <th>labels</th>\n",
       "      <th>image_name</th>\n",
       "    </tr>\n",
       "  </thead>\n",
       "  <tbody>\n",
       "    <tr>\n",
       "      <th>0</th>\n",
       "      <td>-1</td>\n",
       "      <td>300</td>\n",
       "    </tr>\n",
       "    <tr>\n",
       "      <th>1</th>\n",
       "      <td>0</td>\n",
       "      <td>428</td>\n",
       "    </tr>\n",
       "    <tr>\n",
       "      <th>2</th>\n",
       "      <td>1</td>\n",
       "      <td>22</td>\n",
       "    </tr>\n",
       "  </tbody>\n",
       "</table>\n",
       "</div>"
      ],
      "text/plain": [
       "   labels  image_name\n",
       "0      -1         300\n",
       "1       0         428\n",
       "2       1          22"
      ]
     },
     "execution_count": 9,
     "metadata": {},
     "output_type": "execute_result"
    }
   ],
   "source": [
    "clusters_df_vgg[[\"image_name\", \"labels\"]].groupby(\"labels\", as_index=False).count()"
   ]
  },
  {
   "cell_type": "code",
   "execution_count": 28,
   "id": "de5e5834-e7f9-4aae-b413-bccf844e84f9",
   "metadata": {},
   "outputs": [],
   "source": [
    "cluster_names, cluster_counts  = [\"C0\", \"C1\", \"C2\", \"C3\"] , [0,1,-1]"
   ]
  },
  {
   "cell_type": "code",
   "execution_count": 12,
   "id": "3022f873-3684-4213-b8fe-8a82b7d9c1b7",
   "metadata": {},
   "outputs": [],
   "source": [
    "expertcTMO_df = pd.read_csv(\"../data/fit_luminance/mit5k_fits_expertc_non_linear1.csv\")"
   ]
  },
  {
   "cell_type": "code",
   "execution_count": 13,
   "id": "6d766fb3-5d4e-4e1b-9d0d-af974951df02",
   "metadata": {},
   "outputs": [],
   "source": [
    "expertcTMO_df = pd.merge(clusters_df_vgg, expertcTMO_df,  how=\"inner\", on=\"image_idx\")"
   ]
  },
  {
   "cell_type": "code",
   "execution_count": 14,
   "id": "12e0ce45-6c29-4dfd-aecc-e4ba0a412308",
   "metadata": {},
   "outputs": [
    {
     "data": {
      "text/plain": [
       "(0.0, 0.15)"
      ]
     },
     "execution_count": 14,
     "metadata": {},
     "output_type": "execute_result"
    },
    {
     "data": {
      "image/png": "[encoded data removed]",
      "text/plain": [
       "<Figure size 640x480 with 1 Axes>"
      ]
     },
     "metadata": {},
     "output_type": "display_data"
    }
   ],
   "source": [
    "mses = expertcTMO_df[\"mse_err\"].values\n",
    "\n",
    "plt.hist(mses, 50, weights=np.ones(len(mses)) / len(mses), color=\"r\",alpha=0.3)\n",
    "plt.title(r\"MSE for $\\mathcal{A}_C$\")\n",
    "plt.xlim([0,0.15])\n",
    "#plt.savefig(save_path)\n"
   ]
  },
  {
   "cell_type": "code",
   "execution_count": 15,
   "id": "7f34b083-02fa-4417-9aef-e3378da4cd84",
   "metadata": {},
   "outputs": [
    {
     "data": {
      "text/plain": [
       "0.0152300874358271"
      ]
     },
     "execution_count": 15,
     "metadata": {},
     "output_type": "execute_result"
    }
   ],
   "source": [
    "np.median(mses)"
   ]
  },
  {
   "cell_type": "code",
   "execution_count": 16,
   "id": "c89fefc3-c3c5-454e-9dde-6ab84e2273d8",
   "metadata": {},
   "outputs": [],
   "source": [
    "#assign_luminosity_level(expertcTMO_df) #cannot assign lum levels here"
   ]
  },
  {
   "cell_type": "code",
   "execution_count": 17,
   "id": "18b3ccef-893c-4a76-950a-03840f1bbd6f",
   "metadata": {},
   "outputs": [],
   "source": [
    "#plot_a_b_per_group(expertcTMO_df, \"luminosity\")"
   ]
  },
  {
   "cell_type": "code",
   "execution_count": 18,
   "id": "248c0c51-7bb1-4e2a-aeea-954861502dd9",
   "metadata": {},
   "outputs": [],
   "source": [
    "#plot_a_b_per_group(expertcTMO_df, \"label_name\")"
   ]
  },
  {
   "cell_type": "code",
   "execution_count": 19,
   "id": "6c50e948-ad83-4fc0-a86d-382ec909e382",
   "metadata": {},
   "outputs": [],
   "source": [
    "#plot_parameter_distribution_per_luminosity(expertcTMO_df,\"a\")"
   ]
  },
  {
   "cell_type": "code",
   "execution_count": 20,
   "id": "2754e002-d97b-4889-9572-4a67c16505b3",
   "metadata": {},
   "outputs": [],
   "source": [
    "#[a_lum, b_lum] = param_distr_per_feature(expertcTMO_df, \"luminosity\")"
   ]
  },
  {
   "cell_type": "code",
   "execution_count": 21,
   "id": "a28f0671-f5e9-43a9-a275-eb1863d13fde",
   "metadata": {},
   "outputs": [],
   "source": [
    "#p_values_a_lum = ks_test(a_lum, [\"LOW\", \"AVG\", \"HIGH\"], plot=True, alpha=0.05, title=r\"KS test for $\\gamma$ luminosity\")"
   ]
  },
  {
   "cell_type": "code",
   "execution_count": 22,
   "id": "04155287-e4bf-4ca1-91f9-ded84e29509d",
   "metadata": {},
   "outputs": [],
   "source": [
    "#p_values_a_lum = ks_test(b_lum, [\"LOW\", \"AVG\", \"HIGH\"], plot=True, alpha=0.05, title=r\"KS test for $\\mu$ luminosity\")"
   ]
  },
  {
   "cell_type": "code",
   "execution_count": 23,
   "id": "10cfede1-7b3d-41a9-9c19-f399135d465b",
   "metadata": {},
   "outputs": [],
   "source": [
    "expertcTMO_df = expertcTMO_df[expertcTMO_df[\"labels\"] != -1]"
   ]
  },
  {
   "cell_type": "code",
   "execution_count": 24,
   "id": "965ee1e4-e839-4565-abe1-8edf2178685b",
   "metadata": {},
   "outputs": [],
   "source": [
    "[a_cluster, b_cluster] = param_distr_per_feature(expertcTMO_df, \"labels\")"
   ]
  },
  {
   "cell_type": "code",
   "execution_count": 30,
   "id": "95ab9a85-24ac-421c-b16f-2c59a7bf2e14",
   "metadata": {},
   "outputs": [
    {
     "data": {
      "image/png": "[encoded data removed]",
      "text/plain": [
       "<Figure size 640x480 with 1 Axes>"
      ]
     },
     "metadata": {},
     "output_type": "display_data"
    }
   ],
   "source": [
    "p_values_a_cluster = ks_test(a_cluster, [\"C0\", \"C1\"], plot=True, alpha=0.05)"
   ]
  },
  {
   "cell_type": "code",
   "execution_count": 31,
   "id": "7c22e279-2f73-41ca-9d71-825cb08ba18c",
   "metadata": {},
   "outputs": [
    {
     "data": {
      "image/png": "[encoded data removed]",
      "text/plain": [
       "<Figure size 640x480 with 1 Axes>"
      ]
     },
     "metadata": {},
     "output_type": "display_data"
    }
   ],
   "source": [
    "p_values_b_cluster = ks_test(b_cluster, [\"C0\", \"C1\"], plot=True, alpha=0.05)"
   ]
  }
 ],
 "metadata": {
  "kernelspec": {
   "display_name": "Python 3 (ipykernel)",
   "language": "python",
   "name": "python3"
  },
  "language_info": {
   "codemirror_mode": {
    "name": "ipython",
    "version": 3
   },
   "file_extension": ".py",
   "mimetype": "text/x-python",
   "name": "python",
   "nbconvert_exporter": "python",
   "pygments_lexer": "ipython3",
   "version": "3.11.4"
  }
 },
 "nbformat": 4,
 "nbformat_minor": 5
}
