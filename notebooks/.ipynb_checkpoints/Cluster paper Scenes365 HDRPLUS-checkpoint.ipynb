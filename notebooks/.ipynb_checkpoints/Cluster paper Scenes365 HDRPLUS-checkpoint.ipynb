{
 "cells": [
  {
   "cell_type": "markdown",
   "id": "6b2bd776-7419-4bc5-ab61-c5ef0bc441b3",
   "metadata": {},
   "source": [
    "# KS ANALYSIS FOR SCENES365 HDRPLUS\n",
    "\n",
    "\n",
    "The effect of the image enhancement operator is computed using this function: \n",
    "\n",
    "\\begin{equation}\n",
    "L_{\\mathrm{out}} = \\frac{L_{\\mathrm{in}}^{\\gamma}}{L_{\\mathrm{in}}^{\\gamma} + \\mu^{\\gamma}} \n",
    "\\end{equation}\n",
    "\n",
    "See paper for more details"
   ]
  },
  {
   "cell_type": "code",
   "execution_count": 1,
   "id": "60b285c9-f4af-4477-b239-1f7b78d8af16",
   "metadata": {},
   "outputs": [],
   "source": [
    "import pandas as pd\n",
    "import numpy as np\n",
    "import matplotlib.pyplot as plt\n",
    "from scipy import stats\n",
    "import seaborn as sns\n",
    "import matplotlib.pylab as plt\n",
    "from matplotlib.colors import LinearSegmentedColormap"
   ]
  },
  {
   "cell_type": "code",
   "execution_count": 2,
   "id": "a1473fb5-e9b4-4647-8d65-8f6ff36c9f0d",
   "metadata": {},
   "outputs": [],
   "source": [
    "def cluster_names(df,\n",
    "                  column_names,\n",
    "                  red_column_names,\n",
    "                  name_thr=0.6,\n",
    "                  add_names_column=True):\n",
    "    \n",
    "    df_labels = list(set(df[\"labels\"].values))\n",
    "    \n",
    "    cluster_names = []\n",
    "    cluster_counts = []\n",
    "    \n",
    "    for label in df_labels:\n",
    "        df_cluster = df[df[\"labels\"]==label]\n",
    "        \n",
    "        df_cluster_counts = df_cluster[column_names].sum().values / len(df_cluster)\n",
    "        df_cluster_counts = np.where(df_cluster_counts <= name_thr, df_cluster_counts, 1.0)\n",
    "        df_cluster_counts = np.where(df_cluster_counts > name_thr, df_cluster_counts, 0.0)\n",
    "        \n",
    "        clust_name = \"\"\n",
    "        for j, count in enumerate(df_cluster_counts):   \n",
    "            if count == 1:\n",
    "                clust_name += red_column_names[j] \n",
    "        \n",
    "        cluster_names.append(clust_name)\n",
    "        cluster_counts.append(df_cluster_counts)\n",
    "        \n",
    "      \n",
    "    cluster_names =  cluster_names[:-1] + [\"UN\"]\n",
    "\n",
    "    if add_names_column:\n",
    "        map_label_names = {}\n",
    "        \n",
    "        for j, c_name in enumerate(cluster_names):\n",
    "            if j == len(cluster_names)-1:\n",
    "                j = -1\n",
    "            map_label_names[j] = c_name\n",
    "        \n",
    "        df[\"label_name\"] = df[\"labels\"].map(map_label_names)\n",
    "\n",
    "    return cluster_names, cluster_counts"
   ]
  },
  {
   "cell_type": "code",
   "execution_count": 3,
   "id": "8aff54e1-ef1d-4709-89b0-d7657dfceb53",
   "metadata": {},
   "outputs": [],
   "source": [
    "def assign_luminosity_level(df):\n",
    "    df[\"luminosity\"] = [\"0low lum\"]*len(df)\n",
    "    df.loc[df[\"avg lum\"] == 1 , \"luminosity\"] = \"1avg lum\"\n",
    "    df.loc[df[\"high lum\"] == 1 , \"luminosity\"] = \"2high lum\"\n",
    "    return None"
   ]
  },
  {
   "cell_type": "code",
   "execution_count": 4,
   "id": "c7e10358-78e5-407e-a62a-324e9ecc13db",
   "metadata": {},
   "outputs": [],
   "source": [
    "def plot_parameter_distribution_per_light_source(df, param=\"a\", n_bins=50):\n",
    "    df = df[df[\"b\"] < 1e10]\n",
    "    df = df[df[\"a\"] < 1e10]\n",
    "    RD_a_low = df[df[\"light_source\"]==\"indoor\"][param].values\n",
    "    RD_a_high = df[df[\"light_source\"]==\"outdoor\"][param].values\n",
    "    \n",
    "    plt.hist(RD_a_low, n_bins, weights=np.ones(len(RD_a_low)) / len(RD_a_low), color=\"r\", label=\"indoor\",alpha=0.3)\n",
    "    plt.hist(RD_a_high, n_bins, weights=np.ones(len(RD_a_high)) / len(RD_a_high), color=\"g\", label=\"outdoor\",alpha=0.3)\n",
    "    \n",
    "    plt.legend()\n",
    "    if param == \"a\":\n",
    "        title = r\"$\\gamma$\"\n",
    "    elif param == \"b\":\n",
    "        title = r\"$\\mu$\"\n",
    "    else:\n",
    "        title = param\n",
    "    plt.title(title)"
   ]
  },
  {
   "cell_type": "code",
   "execution_count": 5,
   "id": "bcded56a-b3be-46a5-bff8-2456c93c48bc",
   "metadata": {},
   "outputs": [],
   "source": [
    "def plot_parameter_distribution_per_luminosity(df, param=\"a\", n_bins=50):\n",
    "    df = df[df[\"b\"] < 1e10]\n",
    "    df = df[df[\"a\"] < 1e10]\n",
    "    RD_a_low = df[df[\"luminosity\"]==\"0low lum\"][param].values\n",
    "    RD_a_avg = df[df[\"luminosity\"]==\"1avg lum\"][param].values\n",
    "    RD_a_high = df[df[\"luminosity\"]==\"2high lum\"][param].values\n",
    "    \n",
    "    plt.hist(RD_a_low, n_bins, weights=np.ones(len(RD_a_low)) / len(RD_a_low), color=\"r\", label=\"low\",alpha=0.3)\n",
    "    plt.hist(RD_a_avg, n_bins, weights=np.ones(len(RD_a_avg)) / len(RD_a_avg), color=\"b\", label=\"avg\",alpha=0.3)\n",
    "    plt.hist(RD_a_high, n_bins, weights=np.ones(len(RD_a_high)) / len(RD_a_high), color=\"g\", label=\"low\",alpha=0.3)\n",
    "    \n",
    "    plt.legend()\n",
    "    if param == \"a\":\n",
    "        title = r\"$\\gamma$\"\n",
    "    elif param == \"b\":\n",
    "        title = r\"$\\mu$\"\n",
    "    else:\n",
    "        title = param\n",
    "    plt.title(title)"
   ]
  },
  {
   "cell_type": "code",
   "execution_count": 6,
   "id": "9885e540-f6c0-4dc8-bb2d-733f48d4b155",
   "metadata": {},
   "outputs": [],
   "source": [
    "def param_distr_per_feature(df, feature):\n",
    "    \n",
    "    features = list(set(df[feature].values))\n",
    "    print(features)\n",
    "    a_feature = []\n",
    "    b_feature = []\n",
    "    \n",
    "    for j in features:\n",
    "        a_feature.append(df[df[feature]==j][\"a\"].values)\n",
    "        b_feature.append(df[df[feature]==j][\"b\"].values)\n",
    "\n",
    "    return a_feature, b_feature"
   ]
  },
  {
   "cell_type": "code",
   "execution_count": 7,
   "id": "4b5db0d1-f851-46c1-a2ba-1e2d752e0aa0",
   "metadata": {},
   "outputs": [],
   "source": [
    "def ks_test(p_distributions, p_names, plot=True, alpha=0.05, title=None, cbar=False, save_path=''):\n",
    "    \n",
    "    p_values = []\n",
    "    \n",
    "    for i in range(len(p_distributions)):\n",
    "        p_value_i = []\n",
    "        for k in range(len(p_distributions)):\n",
    "            p_value_ij = stats.ks_2samp(p_distributions[i], p_distributions[k])[1] <= alpha\n",
    "            p_value_i.append(p_value_ij)\n",
    "        p_values.append(p_value_i)\n",
    "        \n",
    "    if plot:\n",
    "        mask = np.zeros_like(p_values)\n",
    "        mask[np.triu_indices_from(mask)] = True\n",
    "        \n",
    "        colors = [\"red\", \"green\"] \n",
    "        cmap = LinearSegmentedColormap.from_list('Custom', colors, len(colors))\n",
    "        \n",
    "        ax = sns.heatmap(p_values, mask=mask, linewidth=0.5, xticklabels=p_names, yticklabels=p_names, cmap=cmap, vmin=0.0, vmax=1.0, cbar=cbar)\n",
    "\n",
    "        if cbar == True:\n",
    "            colorbar = ax.collections[0].colorbar\n",
    "            colorbar.set_ticks([0.25,0.75])\n",
    "            colorbar.set_ticklabels(['False', 'True'])\n",
    "        \n",
    "        ax.set_title(title)\n",
    "        \n",
    "        if save_path != '':\n",
    "            plt.savefig(save_path)\n",
    "            \n",
    "    return p_values"
   ]
  },
  {
   "cell_type": "code",
   "execution_count": 8,
   "id": "8dce441c-b4ec-48ca-b984-b48739486a2b",
   "metadata": {},
   "outputs": [],
   "source": [
    "def plot_a_b_per_group(df, group_name, q_low=0.40, q_high=0.60):\n",
    "    \n",
    "    median_fits_values = df[[\"a\", \"b\", \"mse_err\", group_name]].groupby(group_name, as_index=False).quantile()\n",
    "    median_fits_values_low = df[[\"a\", \"b\", \"mse_err\", group_name]].groupby(group_name, as_index=False).quantile(q=q_low)\n",
    "    median_fits_values_high = df[[\"a\", \"b\", \"mse_err\", group_name]].groupby(group_name, as_index=False).quantile(q=q_high)\n",
    "    \n",
    "    for j in range(len(median_fits_values)):\n",
    "        \n",
    "        aerr = (median_fits_values_high.iloc[j][\"a\"] - median_fits_values_low.iloc[j][\"a\"])/2.\n",
    "        berr = (median_fits_values_high.iloc[j][\"b\"] - median_fits_values_low.iloc[j][\"b\"])/2.0\n",
    "        \n",
    "        plt.errorbar(median_fits_values.iloc[j][\"a\"],\n",
    "             median_fits_values.iloc[j][\"b\"],\n",
    "             xerr=aerr,\n",
    "             yerr=berr,\n",
    "             fmt=\"o\",\n",
    "             label=median_fits_values.iloc[j][group_name])\n",
    "        \n",
    "    plt.xlabel(r\"$\\gamma$\")\n",
    "    plt.ylabel(r\"$\\mu$\")\n",
    "    plt.legend()\n",
    "    plt.show()"
   ]
  },
  {
   "cell_type": "markdown",
   "id": "cd13abb1-a866-4b9a-9ca0-57d4291a958f",
   "metadata": {},
   "source": [
    "# HDRPLUS"
   ]
  },
  {
   "cell_type": "code",
   "execution_count": 9,
   "id": "5622c57b-3d04-4c5d-abe5-7047c634763b",
   "metadata": {},
   "outputs": [],
   "source": [
    "scenes_df_hdrplus = pd.read_csv(\"../data/clusters/scene_cat_attr_hdrplus_input.csv\")"
   ]
  },
  {
   "cell_type": "code",
   "execution_count": 10,
   "id": "d8b7c1a6-d685-414d-81a4-9d70e1bcb37e",
   "metadata": {},
   "outputs": [],
   "source": [
    "lights = []\n",
    "\n",
    "for k, image_attributes in enumerate(scenes_df_hdrplus[\"attributes\"].values):\n",
    "    if 'natural light' in image_attributes:\n",
    "        lights.append('outdoor')\n",
    "    elif 'indoor lighting' in image_attributes:\n",
    "        lights.append('indoor')\n",
    "    else:\n",
    "        lights.append('NaN')"
   ]
  },
  {
   "cell_type": "code",
   "execution_count": 11,
   "id": "4879d302-7272-49a8-abdd-a7647b869ff3",
   "metadata": {},
   "outputs": [],
   "source": [
    "scenes_df_hdrplus[\"light_source\"] = lights\n",
    "scenes_df_hdrplus = scenes_df_hdrplus[scenes_df_hdrplus[\"light_source\"] != 'NaN']"
   ]
  },
  {
   "cell_type": "code",
   "execution_count": 12,
   "id": "85eea835-7c42-48eb-976e-8964dc5dae43",
   "metadata": {},
   "outputs": [
    {
     "data": {
      "text/html": [
       "<div>\n",
       "<style scoped>\n",
       "    .dataframe tbody tr th:only-of-type {\n",
       "        vertical-align: middle;\n",
       "    }\n",
       "\n",
       "    .dataframe tbody tr th {\n",
       "        vertical-align: top;\n",
       "    }\n",
       "\n",
       "    .dataframe thead th {\n",
       "        text-align: right;\n",
       "    }\n",
       "</style>\n",
       "<table border=\"1\" class=\"dataframe\">\n",
       "  <thead>\n",
       "    <tr style=\"text-align: right;\">\n",
       "      <th></th>\n",
       "      <th>light_source</th>\n",
       "      <th>image_name</th>\n",
       "    </tr>\n",
       "  </thead>\n",
       "  <tbody>\n",
       "    <tr>\n",
       "      <th>0</th>\n",
       "      <td>outdoor</td>\n",
       "      <td>1377</td>\n",
       "    </tr>\n",
       "    <tr>\n",
       "      <th>1</th>\n",
       "      <td>indoor</td>\n",
       "      <td>292</td>\n",
       "    </tr>\n",
       "  </tbody>\n",
       "</table>\n",
       "</div>"
      ],
      "text/plain": [
       "  light_source  image_name\n",
       "0      outdoor        1377\n",
       "1       indoor         292"
      ]
     },
     "execution_count": 12,
     "metadata": {},
     "output_type": "execute_result"
    }
   ],
   "source": [
    "scenes_df_hdrplus[[\"image_name\", \"light_source\"]].groupby(\"light_source\", as_index=False, sort=False).count()"
   ]
  },
  {
   "cell_type": "code",
   "execution_count": 13,
   "id": "b42b0bc3-4e5e-44e8-9f3e-4c7c9522d250",
   "metadata": {},
   "outputs": [],
   "source": [
    "areas = []\n",
    "\n",
    "for k, image_attributes in enumerate(scenes_df_hdrplus[\"attributes\"].values):\n",
    "    if 'ope' in image_attributes:\n",
    "        areas.append('open')\n",
    "    elif 'enclose' in image_attributes:\n",
    "        areas.append('enclosed')\n",
    "    elif 'semi-enclose' in image_attributes:\n",
    "        areas.append('semi-enclosed')\n",
    "    else:\n",
    "        areas.append('NaN')\n",
    "\n",
    "scenes_df_hdrplus[\"area\"] = areas\n",
    "scenes_df_hdrplus = scenes_df_hdrplus[scenes_df_hdrplus[\"area\"] != 'NaN']"
   ]
  },
  {
   "cell_type": "code",
   "execution_count": 14,
   "id": "5a627ff6-b6af-4da7-b5e6-fd8482ddd2dd",
   "metadata": {},
   "outputs": [
    {
     "data": {
      "text/html": [
       "<div>\n",
       "<style scoped>\n",
       "    .dataframe tbody tr th:only-of-type {\n",
       "        vertical-align: middle;\n",
       "    }\n",
       "\n",
       "    .dataframe tbody tr th {\n",
       "        vertical-align: top;\n",
       "    }\n",
       "\n",
       "    .dataframe thead th {\n",
       "        text-align: right;\n",
       "    }\n",
       "</style>\n",
       "<table border=\"1\" class=\"dataframe\">\n",
       "  <thead>\n",
       "    <tr style=\"text-align: right;\">\n",
       "      <th></th>\n",
       "      <th>area</th>\n",
       "      <th>image_name</th>\n",
       "    </tr>\n",
       "  </thead>\n",
       "  <tbody>\n",
       "    <tr>\n",
       "      <th>0</th>\n",
       "      <td>open</td>\n",
       "      <td>1256</td>\n",
       "    </tr>\n",
       "    <tr>\n",
       "      <th>1</th>\n",
       "      <td>enclosed</td>\n",
       "      <td>411</td>\n",
       "    </tr>\n",
       "  </tbody>\n",
       "</table>\n",
       "</div>"
      ],
      "text/plain": [
       "       area  image_name\n",
       "0      open        1256\n",
       "1  enclosed         411"
      ]
     },
     "execution_count": 14,
     "metadata": {},
     "output_type": "execute_result"
    }
   ],
   "source": [
    "scenes_df_hdrplus[[\"image_name\", \"area\"]].groupby(\"area\", as_index=False, sort=False).count()"
   ]
  },
  {
   "cell_type": "code",
   "execution_count": 15,
   "id": "8888977b-296c-4964-aafd-6d04909913cd",
   "metadata": {},
   "outputs": [],
   "source": [
    "scenes_df_hdrplus[\"light_area\"] = scenes_df_hdrplus[\"light_source\"] + '_' + scenes_df_hdrplus[\"area\"]"
   ]
  },
  {
   "cell_type": "code",
   "execution_count": 16,
   "id": "2ceec7ab-361d-40aa-b2c7-4b3bd58a10ce",
   "metadata": {},
   "outputs": [],
   "source": [
    "built = []\n",
    "\n",
    "for k, image_attributes in enumerate(scenes_df_hdrplus[\"attributes\"].values):\n",
    "    if 'man-mad' in image_attributes:\n",
    "        built.append('man-made')\n",
    "    elif 'natura' in image_attributes:\n",
    "        built.append('natura')\n",
    "    else:\n",
    "        built.append('NaN')\n",
    "\n",
    "scenes_df_hdrplus[\"built\"] = built\n",
    "scenes_df_hdrplus = scenes_df_hdrplus[scenes_df_hdrplus[\"built\"] != 'NaN']"
   ]
  },
  {
   "cell_type": "code",
   "execution_count": 17,
   "id": "8998f737-4f57-4502-88c8-00b9771d925c",
   "metadata": {},
   "outputs": [
    {
     "data": {
      "text/html": [
       "<div>\n",
       "<style scoped>\n",
       "    .dataframe tbody tr th:only-of-type {\n",
       "        vertical-align: middle;\n",
       "    }\n",
       "\n",
       "    .dataframe tbody tr th {\n",
       "        vertical-align: top;\n",
       "    }\n",
       "\n",
       "    .dataframe thead th {\n",
       "        text-align: right;\n",
       "    }\n",
       "</style>\n",
       "<table border=\"1\" class=\"dataframe\">\n",
       "  <thead>\n",
       "    <tr style=\"text-align: right;\">\n",
       "      <th></th>\n",
       "      <th>built</th>\n",
       "      <th>image_name</th>\n",
       "    </tr>\n",
       "  </thead>\n",
       "  <tbody>\n",
       "    <tr>\n",
       "      <th>0</th>\n",
       "      <td>natura</td>\n",
       "      <td>592</td>\n",
       "    </tr>\n",
       "    <tr>\n",
       "      <th>1</th>\n",
       "      <td>man-made</td>\n",
       "      <td>1075</td>\n",
       "    </tr>\n",
       "  </tbody>\n",
       "</table>\n",
       "</div>"
      ],
      "text/plain": [
       "      built  image_name\n",
       "0    natura         592\n",
       "1  man-made        1075"
      ]
     },
     "execution_count": 17,
     "metadata": {},
     "output_type": "execute_result"
    }
   ],
   "source": [
    "scenes_df_hdrplus[[\"image_name\", \"built\"]].groupby(\"built\", as_index=False, sort=False).count()"
   ]
  },
  {
   "cell_type": "code",
   "execution_count": 18,
   "id": "755f8a60-bc2f-4626-a18c-a2596efdc873",
   "metadata": {},
   "outputs": [],
   "source": [
    "scary = []\n",
    "\n",
    "for k, image_attributes in enumerate(scenes_df_hdrplus[\"attributes\"].values):\n",
    "    if 'scary' in image_attributes:\n",
    "        scary.append('scary')\n",
    "    else:\n",
    "        scary.append('not_scary')\n",
    "\n",
    "scenes_df_hdrplus[\"scary\"] = scary"
   ]
  },
  {
   "cell_type": "code",
   "execution_count": 19,
   "id": "5ad120e9-1fe4-439b-8899-48578f55158c",
   "metadata": {},
   "outputs": [],
   "source": [
    "working = []\n",
    "\n",
    "for k, image_attributes in enumerate(scenes_df_hdrplus[\"attributes\"].values):\n",
    "    if 'working' in image_attributes:\n",
    "        working.append('working')\n",
    "    else:\n",
    "        working.append('not_working')\n",
    "\n",
    "scenes_df_hdrplus[\"working\"] = working"
   ]
  },
  {
   "cell_type": "code",
   "execution_count": 20,
   "id": "0af88b3d-6016-470c-8d13-076fcc370d79",
   "metadata": {},
   "outputs": [],
   "source": [
    "scenes_df_hdrplus[\"light_built\"] = scenes_df_hdrplus[\"light_source\"] + '_' + scenes_df_hdrplus[\"built\"]"
   ]
  },
  {
   "cell_type": "code",
   "execution_count": 21,
   "id": "8719d3dd-2943-43da-b6fb-e0621a3307c8",
   "metadata": {},
   "outputs": [],
   "source": [
    "scenes_df_hdrplus[\"main_attribute\"] = [attributes.split(\"#\")[0] for attributes in scenes_df_hdrplus[\"attributes\"]]\n",
    "scenes_df_hdrplus[\"main_category\"] = [attributes.split(\"#\")[0] for attributes in scenes_df_hdrplus[\"categories\"]]"
   ]
  },
  {
   "cell_type": "code",
   "execution_count": 22,
   "id": "e45c7b94-a24a-49b0-b52a-131ab4effc02",
   "metadata": {},
   "outputs": [],
   "source": [
    "most_common_attr = [\"man-made\", \"natural light\", \"no horizon\", \"open area\"] "
   ]
  },
  {
   "cell_type": "code",
   "execution_count": 23,
   "id": "ae3261e0-3eff-48c5-966a-f46f22c2d63e",
   "metadata": {},
   "outputs": [],
   "source": [
    "scenes_df_hdrplus[\"main_attribute\"] = [attribute if attribute in most_common_attr else 'None' for attribute in scenes_df_hdrplus[\"main_attribute\"]]"
   ]
  },
  {
   "cell_type": "code",
   "execution_count": 24,
   "id": "62472b52-4cf1-48c5-9e12-96bf672ceacf",
   "metadata": {},
   "outputs": [
    {
     "data": {
      "text/html": [
       "<div>\n",
       "<style scoped>\n",
       "    .dataframe tbody tr th:only-of-type {\n",
       "        vertical-align: middle;\n",
       "    }\n",
       "\n",
       "    .dataframe tbody tr th {\n",
       "        vertical-align: top;\n",
       "    }\n",
       "\n",
       "    .dataframe thead th {\n",
       "        text-align: right;\n",
       "    }\n",
       "</style>\n",
       "<table border=\"1\" class=\"dataframe\">\n",
       "  <thead>\n",
       "    <tr style=\"text-align: right;\">\n",
       "      <th></th>\n",
       "      <th>main_category</th>\n",
       "      <th>image_name</th>\n",
       "    </tr>\n",
       "  </thead>\n",
       "  <tbody>\n",
       "    <tr>\n",
       "      <th>108</th>\n",
       "      <td>church/indoor</td>\n",
       "      <td>82</td>\n",
       "    </tr>\n",
       "    <tr>\n",
       "      <th>23</th>\n",
       "      <td>desert/vegetation</td>\n",
       "      <td>62</td>\n",
       "    </tr>\n",
       "    <tr>\n",
       "      <th>2</th>\n",
       "      <td>forest/broadleaf</td>\n",
       "      <td>49</td>\n",
       "    </tr>\n",
       "    <tr>\n",
       "      <th>25</th>\n",
       "      <td>desert/sand</td>\n",
       "      <td>48</td>\n",
       "    </tr>\n",
       "    <tr>\n",
       "      <th>71</th>\n",
       "      <td>tree_farm</td>\n",
       "      <td>36</td>\n",
       "    </tr>\n",
       "    <tr>\n",
       "      <th>...</th>\n",
       "      <td>...</td>\n",
       "      <td>...</td>\n",
       "    </tr>\n",
       "    <tr>\n",
       "      <th>204</th>\n",
       "      <td>swimming_pool/indoor</td>\n",
       "      <td>1</td>\n",
       "    </tr>\n",
       "    <tr>\n",
       "      <th>205</th>\n",
       "      <td>moat/water</td>\n",
       "      <td>1</td>\n",
       "    </tr>\n",
       "    <tr>\n",
       "      <th>207</th>\n",
       "      <td>toyshop</td>\n",
       "      <td>1</td>\n",
       "    </tr>\n",
       "    <tr>\n",
       "      <th>61</th>\n",
       "      <td>fabric_store</td>\n",
       "      <td>1</td>\n",
       "    </tr>\n",
       "    <tr>\n",
       "      <th>243</th>\n",
       "      <td>hot_spring</td>\n",
       "      <td>1</td>\n",
       "    </tr>\n",
       "  </tbody>\n",
       "</table>\n",
       "<p>244 rows × 2 columns</p>\n",
       "</div>"
      ],
      "text/plain": [
       "            main_category  image_name\n",
       "108         church/indoor          82\n",
       "23      desert/vegetation          62\n",
       "2        forest/broadleaf          49\n",
       "25            desert/sand          48\n",
       "71              tree_farm          36\n",
       "..                    ...         ...\n",
       "204  swimming_pool/indoor           1\n",
       "205            moat/water           1\n",
       "207               toyshop           1\n",
       "61           fabric_store           1\n",
       "243            hot_spring           1\n",
       "\n",
       "[244 rows x 2 columns]"
      ]
     },
     "execution_count": 24,
     "metadata": {},
     "output_type": "execute_result"
    }
   ],
   "source": [
    "scenes_df_hdrplus_count = scenes_df_hdrplus[[\"image_name\", \"main_category\"]].groupby(\"main_category\", as_index=False, sort=False).count()\n",
    "scenes_df_hdrplus_count.sort_values(by=[\"image_name\"], ascending=False)"
   ]
  },
  {
   "cell_type": "code",
   "execution_count": 25,
   "id": "23a2bc79-e1f4-4c5f-9897-460425b5ab51",
   "metadata": {},
   "outputs": [
    {
     "data": {
      "text/plain": [
       "['outdoor_man-made', 'outdoor_natura', 'indoor_man-made']"
      ]
     },
     "execution_count": 25,
     "metadata": {},
     "output_type": "execute_result"
    }
   ],
   "source": [
    "list(set(scenes_df_hdrplus[\"light_built\"].values))"
   ]
  },
  {
   "cell_type": "code",
   "execution_count": 26,
   "id": "b4069597-b2bc-4eb5-98b3-437f37bde5dc",
   "metadata": {},
   "outputs": [
    {
     "data": {
      "text/html": [
       "<div>\n",
       "<style scoped>\n",
       "    .dataframe tbody tr th:only-of-type {\n",
       "        vertical-align: middle;\n",
       "    }\n",
       "\n",
       "    .dataframe tbody tr th {\n",
       "        vertical-align: top;\n",
       "    }\n",
       "\n",
       "    .dataframe thead th {\n",
       "        text-align: right;\n",
       "    }\n",
       "</style>\n",
       "<table border=\"1\" class=\"dataframe\">\n",
       "  <thead>\n",
       "    <tr style=\"text-align: right;\">\n",
       "      <th></th>\n",
       "      <th>light_built</th>\n",
       "      <th>image_name</th>\n",
       "    </tr>\n",
       "  </thead>\n",
       "  <tbody>\n",
       "    <tr>\n",
       "      <th>0</th>\n",
       "      <td>outdoor_natura</td>\n",
       "      <td>592</td>\n",
       "    </tr>\n",
       "    <tr>\n",
       "      <th>1</th>\n",
       "      <td>indoor_man-made</td>\n",
       "      <td>291</td>\n",
       "    </tr>\n",
       "    <tr>\n",
       "      <th>2</th>\n",
       "      <td>outdoor_man-made</td>\n",
       "      <td>784</td>\n",
       "    </tr>\n",
       "  </tbody>\n",
       "</table>\n",
       "</div>"
      ],
      "text/plain": [
       "        light_built  image_name\n",
       "0    outdoor_natura         592\n",
       "1   indoor_man-made         291\n",
       "2  outdoor_man-made         784"
      ]
     },
     "execution_count": 26,
     "metadata": {},
     "output_type": "execute_result"
    }
   ],
   "source": [
    "scenes_df_hdrplus[[\"image_name\", \"light_built\"]].groupby(\"light_built\", as_index=False, sort=False).count()"
   ]
  },
  {
   "cell_type": "code",
   "execution_count": 27,
   "id": "dd0b988c-485e-4321-b2c6-ca666d242df8",
   "metadata": {},
   "outputs": [
    {
     "data": {
      "text/plain": [
       "0.040380047505938245"
      ]
     },
     "execution_count": 27,
     "metadata": {},
     "output_type": "execute_result"
    }
   ],
   "source": [
    "68 /1684"
   ]
  },
  {
   "cell_type": "code",
   "execution_count": 28,
   "id": "44042e3f-a332-4b38-86be-fac2548fd1ee",
   "metadata": {},
   "outputs": [
    {
     "data": {
      "text/plain": [
       "array([], dtype=object)"
      ]
     },
     "execution_count": 28,
     "metadata": {},
     "output_type": "execute_result"
    }
   ],
   "source": [
    "scenes_df_hdrplus[scenes_df_hdrplus[\"light_built\"] == \"indoor_natura\"][\"image_name\"].values"
   ]
  },
  {
   "cell_type": "code",
   "execution_count": 29,
   "id": "c7106611-4618-45d3-93db-62fde012ed6b",
   "metadata": {},
   "outputs": [],
   "source": [
    "most_common_cat = [\"church/indoor\", \"desert/vegetation\", \"forest/broadleaf\", \"desert/sand\"]\n",
    "\n",
    "scenes_df_hdrplus[\"main_category\"] = [cat if cat in most_common_cat else 'None' for cat in scenes_df_hdrplus[\"main_category\"]]"
   ]
  },
  {
   "cell_type": "code",
   "execution_count": 30,
   "id": "e52e9343-5fcc-4baf-baeb-b5455107bf83",
   "metadata": {},
   "outputs": [],
   "source": [
    "hdrplus_df_fit = pd.read_csv(\"../data/fit_luminance/mit5k_fits_HDRPlus_non_linear1.csv\")"
   ]
  },
  {
   "cell_type": "code",
   "execution_count": 31,
   "id": "62f3f04f-b029-47b3-977f-8382ee9e83a1",
   "metadata": {},
   "outputs": [],
   "source": [
    "hdrplus_df_merge = pd.merge(scenes_df_hdrplus, hdrplus_df_fit,  how=\"inner\", on=\"image_idx\")"
   ]
  },
  {
   "cell_type": "code",
   "execution_count": 32,
   "id": "f30f735f-3841-4164-a4e4-440e485ea9c0",
   "metadata": {},
   "outputs": [
    {
     "data": {
      "image/png": "[encoded data removed]",
      "text/plain": [
       "<Figure size 640x480 with 1 Axes>"
      ]
     },
     "metadata": {},
     "output_type": "display_data"
    }
   ],
   "source": [
    "plot_a_b_per_group(hdrplus_df_merge, \"built\")"
   ]
  },
  {
   "cell_type": "code",
   "execution_count": 33,
   "id": "521a6813-17fb-40ce-b334-27ecb9cb2632",
   "metadata": {},
   "outputs": [
    {
     "data": {
      "text/plain": [
       "'no horizon#natural light#open area#foliage#trees#leaves#vegetation#natural#cloth#shrubber'"
      ]
     },
     "execution_count": 33,
     "metadata": {},
     "output_type": "execute_result"
    }
   ],
   "source": [
    "hdrplus_df_merge[\"attributes\"].iloc[0]"
   ]
  },
  {
   "cell_type": "code",
   "execution_count": 34,
   "id": "e6ebf674-98c4-4230-9cd3-e12cedba3b33",
   "metadata": {},
   "outputs": [
    {
     "data": {
      "image/png": "[encoded data removed]",
      "text/plain": [
       "<Figure size 640x480 with 1 Axes>"
      ]
     },
     "metadata": {},
     "output_type": "display_data"
    }
   ],
   "source": [
    "plot_parameter_distribution_per_light_source(hdrplus_df_merge,\"a\")"
   ]
  },
  {
   "cell_type": "code",
   "execution_count": 35,
   "id": "7d269f68-8b79-45cc-87f0-f73fbced29b8",
   "metadata": {},
   "outputs": [
    {
     "data": {
      "image/png": "[encoded data removed]",
      "text/plain": [
       "<Figure size 640x480 with 1 Axes>"
      ]
     },
     "metadata": {},
     "output_type": "display_data"
    }
   ],
   "source": [
    "plot_parameter_distribution_per_light_source(hdrplus_df_merge,\"b\")"
   ]
  },
  {
   "cell_type": "code",
   "execution_count": 36,
   "id": "dbd7b285-8d6f-4f10-b243-24a5d8f604b6",
   "metadata": {},
   "outputs": [
    {
     "name": "stdout",
     "output_type": "stream",
     "text": [
      "['outdoor', 'indoor']\n"
     ]
    }
   ],
   "source": [
    "[a_lum_hdrplus, b_lum_hdrplus] = param_distr_per_feature(hdrplus_df_merge, \"light_source\")"
   ]
  },
  {
   "cell_type": "code",
   "execution_count": 37,
   "id": "d4deedaf-da4c-408d-943a-67a830a1b455",
   "metadata": {},
   "outputs": [
    {
     "data": {
      "image/png": "[encoded data removed]",
      "text/plain": [
       "<Figure size 640x480 with 1 Axes>"
      ]
     },
     "metadata": {},
     "output_type": "display_data"
    }
   ],
   "source": [
    "p_values_a_lum = ks_test(a_lum_hdrplus, ['outdoor', 'indoor'], plot=True, alpha=0.05, title=r\"KS test for $\\gamma$ luminosity\")"
   ]
  },
  {
   "cell_type": "code",
   "execution_count": 38,
   "id": "46a04f24-5e9b-4ee3-83b7-4a2616206e80",
   "metadata": {},
   "outputs": [
    {
     "data": {
      "image/png": "[encoded data removed]",
      "text/plain": [
       "<Figure size 640x480 with 1 Axes>"
      ]
     },
     "metadata": {},
     "output_type": "display_data"
    }
   ],
   "source": [
    "p_values_a_lum = ks_test(b_lum_hdrplus, ['outdoor', 'indoor'], plot=True, alpha=0.05, title=r\"KS test for $\\gamma$ luminosity\")"
   ]
  },
  {
   "cell_type": "code",
   "execution_count": 39,
   "id": "cf318b0d-dd3a-46d8-9ecf-544693e8a3d5",
   "metadata": {},
   "outputs": [
    {
     "data": {
      "text/html": [
       "<div>\n",
       "<style scoped>\n",
       "    .dataframe tbody tr th:only-of-type {\n",
       "        vertical-align: middle;\n",
       "    }\n",
       "\n",
       "    .dataframe tbody tr th {\n",
       "        vertical-align: top;\n",
       "    }\n",
       "\n",
       "    .dataframe thead th {\n",
       "        text-align: right;\n",
       "    }\n",
       "</style>\n",
       "<table border=\"1\" class=\"dataframe\">\n",
       "  <thead>\n",
       "    <tr style=\"text-align: right;\">\n",
       "      <th></th>\n",
       "      <th>light_built</th>\n",
       "      <th>image_idx</th>\n",
       "    </tr>\n",
       "  </thead>\n",
       "  <tbody>\n",
       "    <tr>\n",
       "      <th>0</th>\n",
       "      <td>outdoor_natura</td>\n",
       "      <td>592</td>\n",
       "    </tr>\n",
       "    <tr>\n",
       "      <th>1</th>\n",
       "      <td>indoor_man-made</td>\n",
       "      <td>291</td>\n",
       "    </tr>\n",
       "    <tr>\n",
       "      <th>2</th>\n",
       "      <td>outdoor_man-made</td>\n",
       "      <td>784</td>\n",
       "    </tr>\n",
       "  </tbody>\n",
       "</table>\n",
       "</div>"
      ],
      "text/plain": [
       "        light_built  image_idx\n",
       "0    outdoor_natura        592\n",
       "1   indoor_man-made        291\n",
       "2  outdoor_man-made        784"
      ]
     },
     "execution_count": 39,
     "metadata": {},
     "output_type": "execute_result"
    }
   ],
   "source": [
    "hdrplus_df_merge[[\"image_idx\", \"light_built\"]].groupby(\"light_built\", as_index=False, sort=False).count()"
   ]
  },
  {
   "cell_type": "code",
   "execution_count": 40,
   "id": "71733eb8-1065-4388-a069-d81438040c05",
   "metadata": {},
   "outputs": [],
   "source": [
    "hdrplus_df_merge = hdrplus_df_merge[hdrplus_df_merge[\"light_built\"] != \"indoor_natura\"]"
   ]
  },
  {
   "cell_type": "code",
   "execution_count": 41,
   "id": "2900653f-d7fe-42f5-aa29-4a458b6eac4a",
   "metadata": {},
   "outputs": [
    {
     "data": {
      "image/png": "[encoded data removed]",
      "text/plain": [
       "<Figure size 640x480 with 1 Axes>"
      ]
     },
     "metadata": {},
     "output_type": "display_data"
    }
   ],
   "source": [
    "plot_a_b_per_group(hdrplus_df_merge, \"light_built\")"
   ]
  },
  {
   "cell_type": "code",
   "execution_count": 42,
   "id": "685a49f6-6849-42ad-8cf8-2f5edb7c079a",
   "metadata": {},
   "outputs": [
    {
     "name": "stdout",
     "output_type": "stream",
     "text": [
      "['outdoor_man-made', 'outdoor_natura', 'indoor_man-made']\n"
     ]
    }
   ],
   "source": [
    "[a_lum_hdrplus, b_lum_hdrplus] = param_distr_per_feature(hdrplus_df_merge, \"light_built\")"
   ]
  },
  {
   "cell_type": "code",
   "execution_count": 43,
   "id": "5c3367e4-6875-4e03-a345-a73227d54fe0",
   "metadata": {},
   "outputs": [
    {
     "data": {
      "image/png": "[encoded data removed]",
      "text/plain": [
       "<Figure size 640x480 with 1 Axes>"
      ]
     },
     "metadata": {},
     "output_type": "display_data"
    }
   ],
   "source": [
    "p_values_a_lum = ks_test(a_lum_hdrplus, ['indoor_man-made', 'outdoor_natura', 'outdoor_man-made'], plot=True, alpha=0.05)"
   ]
  },
  {
   "cell_type": "code",
   "execution_count": 44,
   "id": "eeb138cc-c9b3-42af-a28c-a4bd3e9ada9a",
   "metadata": {},
   "outputs": [
    {
     "data": {
      "image/png": "[encoded data removed]",
      "text/plain": [
       "<Figure size 640x480 with 1 Axes>"
      ]
     },
     "metadata": {},
     "output_type": "display_data"
    }
   ],
   "source": [
    "p_values_b_lum = ks_test(b_lum_hdrplus, ['indoor_man-made', 'outdoor_natura', 'outdoor_man-made'], plot=True, alpha=0.05)"
   ]
  },
  {
   "cell_type": "markdown",
   "id": "2dc6409b-ac99-4703-8221-291060d0d659",
   "metadata": {},
   "source": [
    "# LUMINOSITY VS LIGHT BUILT"
   ]
  },
  {
   "cell_type": "code",
   "execution_count": 45,
   "id": "ae93e48a-91d4-40e8-9135-b5fe6ccdfdde",
   "metadata": {},
   "outputs": [],
   "source": [
    "clusters_hdrplus = pd.read_csv(\"../data/clusters/hdrplus_train_labels_labels.csv\")"
   ]
  },
  {
   "cell_type": "code",
   "execution_count": 46,
   "id": "7a9a01b9-5095-4842-ba2c-ca3314024289",
   "metadata": {},
   "outputs": [],
   "source": [
    "luminosity_hdrplus_cluster = pd.merge(scenes_df_hdrplus, clusters_hdrplus,  how=\"inner\", on=\"image_name\") "
   ]
  },
  {
   "cell_type": "code",
   "execution_count": 47,
   "id": "b319ca0d-664f-4fae-9c99-73e4083a48bc",
   "metadata": {},
   "outputs": [],
   "source": [
    "hdrplus_df_fit = pd.read_csv(\"../data/fit_luminance/mit5k_fits_HDRPlus_non_linear1.csv\")\n",
    "luminosity_hdrplus_cluster = pd.merge(luminosity_hdrplus_cluster, hdrplus_df_fit,  how=\"inner\", on=\"image_name\")"
   ]
  },
  {
   "cell_type": "code",
   "execution_count": 48,
   "id": "e1ac059b-66fa-4f48-8a1f-4335acceae7f",
   "metadata": {},
   "outputs": [],
   "source": [
    "luminosity_hdrplus_cluster_sum_lum = luminosity_hdrplus_cluster[[\"low lum\", \"avg lum\", \"high lum\", \"light_built\"]].groupby(\"light_built\", as_index=False, sort=False).sum()"
   ]
  },
  {
   "cell_type": "code",
   "execution_count": 49,
   "id": "432124e0-66a2-48b8-b73b-3ac4a0540773",
   "metadata": {},
   "outputs": [],
   "source": [
    "luminosity_hdrplus_cluster_sum_lum[\"total\"] = luminosity_hdrplus_cluster_sum_lum[\"low lum\"] + luminosity_hdrplus_cluster_sum_lum[\"avg lum\"] + luminosity_hdrplus_cluster_sum_lum[\"high lum\"] "
   ]
  },
  {
   "cell_type": "code",
   "execution_count": 50,
   "id": "4b3e33ce-1ffe-4d1c-bd35-86f624e00116",
   "metadata": {},
   "outputs": [
    {
     "data": {
      "text/html": [
       "<div>\n",
       "<style scoped>\n",
       "    .dataframe tbody tr th:only-of-type {\n",
       "        vertical-align: middle;\n",
       "    }\n",
       "\n",
       "    .dataframe tbody tr th {\n",
       "        vertical-align: top;\n",
       "    }\n",
       "\n",
       "    .dataframe thead th {\n",
       "        text-align: right;\n",
       "    }\n",
       "</style>\n",
       "<table border=\"1\" class=\"dataframe\">\n",
       "  <thead>\n",
       "    <tr style=\"text-align: right;\">\n",
       "      <th></th>\n",
       "      <th>light_built</th>\n",
       "      <th>low lum</th>\n",
       "      <th>avg lum</th>\n",
       "      <th>high lum</th>\n",
       "      <th>total</th>\n",
       "      <th>perc_low lum</th>\n",
       "    </tr>\n",
       "  </thead>\n",
       "  <tbody>\n",
       "    <tr>\n",
       "      <th>0</th>\n",
       "      <td>outdoor_natura</td>\n",
       "      <td>190</td>\n",
       "      <td>187</td>\n",
       "      <td>215</td>\n",
       "      <td>592</td>\n",
       "      <td>0.320946</td>\n",
       "    </tr>\n",
       "    <tr>\n",
       "      <th>1</th>\n",
       "      <td>indoor_man-made</td>\n",
       "      <td>245</td>\n",
       "      <td>36</td>\n",
       "      <td>10</td>\n",
       "      <td>291</td>\n",
       "      <td>0.841924</td>\n",
       "    </tr>\n",
       "    <tr>\n",
       "      <th>2</th>\n",
       "      <td>outdoor_man-made</td>\n",
       "      <td>451</td>\n",
       "      <td>166</td>\n",
       "      <td>167</td>\n",
       "      <td>784</td>\n",
       "      <td>0.575255</td>\n",
       "    </tr>\n",
       "  </tbody>\n",
       "</table>\n",
       "</div>"
      ],
      "text/plain": [
       "        light_built  low lum  avg lum  high lum  total  perc_low lum\n",
       "0    outdoor_natura      190      187       215    592      0.320946\n",
       "1   indoor_man-made      245       36        10    291      0.841924\n",
       "2  outdoor_man-made      451      166       167    784      0.575255"
      ]
     },
     "execution_count": 50,
     "metadata": {},
     "output_type": "execute_result"
    }
   ],
   "source": [
    "luminosity_hdrplus_cluster_sum_lum[\"perc_low lum\"] = luminosity_hdrplus_cluster_sum_lum[\"low lum\"] / luminosity_hdrplus_cluster_sum_lum[\"total\"]\n",
    "luminosity_hdrplus_cluster_sum_lum"
   ]
  },
  {
   "cell_type": "code",
   "execution_count": 51,
   "id": "7f3bc53d-74ee-4682-9ae4-4aa17cfb33b0",
   "metadata": {},
   "outputs": [
    {
     "data": {
      "text/html": [
       "<div>\n",
       "<style scoped>\n",
       "    .dataframe tbody tr th:only-of-type {\n",
       "        vertical-align: middle;\n",
       "    }\n",
       "\n",
       "    .dataframe tbody tr th {\n",
       "        vertical-align: top;\n",
       "    }\n",
       "\n",
       "    .dataframe thead th {\n",
       "        text-align: right;\n",
       "    }\n",
       "</style>\n",
       "<table border=\"1\" class=\"dataframe\">\n",
       "  <thead>\n",
       "    <tr style=\"text-align: right;\">\n",
       "      <th></th>\n",
       "      <th>light_built</th>\n",
       "      <th>low lum</th>\n",
       "      <th>avg lum</th>\n",
       "      <th>high lum</th>\n",
       "      <th>total</th>\n",
       "      <th>perc_low lum</th>\n",
       "      <th>perc_avg lum</th>\n",
       "    </tr>\n",
       "  </thead>\n",
       "  <tbody>\n",
       "    <tr>\n",
       "      <th>0</th>\n",
       "      <td>outdoor_natura</td>\n",
       "      <td>190</td>\n",
       "      <td>187</td>\n",
       "      <td>215</td>\n",
       "      <td>592</td>\n",
       "      <td>0.320946</td>\n",
       "      <td>0.315878</td>\n",
       "    </tr>\n",
       "    <tr>\n",
       "      <th>1</th>\n",
       "      <td>indoor_man-made</td>\n",
       "      <td>245</td>\n",
       "      <td>36</td>\n",
       "      <td>10</td>\n",
       "      <td>291</td>\n",
       "      <td>0.841924</td>\n",
       "      <td>0.123711</td>\n",
       "    </tr>\n",
       "    <tr>\n",
       "      <th>2</th>\n",
       "      <td>outdoor_man-made</td>\n",
       "      <td>451</td>\n",
       "      <td>166</td>\n",
       "      <td>167</td>\n",
       "      <td>784</td>\n",
       "      <td>0.575255</td>\n",
       "      <td>0.211735</td>\n",
       "    </tr>\n",
       "  </tbody>\n",
       "</table>\n",
       "</div>"
      ],
      "text/plain": [
       "        light_built  low lum  avg lum  high lum  total  perc_low lum  \\\n",
       "0    outdoor_natura      190      187       215    592      0.320946   \n",
       "1   indoor_man-made      245       36        10    291      0.841924   \n",
       "2  outdoor_man-made      451      166       167    784      0.575255   \n",
       "\n",
       "   perc_avg lum  \n",
       "0      0.315878  \n",
       "1      0.123711  \n",
       "2      0.211735  "
      ]
     },
     "execution_count": 51,
     "metadata": {},
     "output_type": "execute_result"
    }
   ],
   "source": [
    "luminosity_hdrplus_cluster_sum_lum[\"perc_avg lum\"] = luminosity_hdrplus_cluster_sum_lum[\"avg lum\"] / luminosity_hdrplus_cluster_sum_lum[\"total\"]\n",
    "luminosity_hdrplus_cluster_sum_lum"
   ]
  },
  {
   "cell_type": "code",
   "execution_count": 52,
   "id": "3b3b4909-9bde-4c2f-aecd-7b57c5790ff5",
   "metadata": {},
   "outputs": [
    {
     "data": {
      "text/html": [
       "<div>\n",
       "<style scoped>\n",
       "    .dataframe tbody tr th:only-of-type {\n",
       "        vertical-align: middle;\n",
       "    }\n",
       "\n",
       "    .dataframe tbody tr th {\n",
       "        vertical-align: top;\n",
       "    }\n",
       "\n",
       "    .dataframe thead th {\n",
       "        text-align: right;\n",
       "    }\n",
       "</style>\n",
       "<table border=\"1\" class=\"dataframe\">\n",
       "  <thead>\n",
       "    <tr style=\"text-align: right;\">\n",
       "      <th></th>\n",
       "      <th>light_built</th>\n",
       "      <th>low lum</th>\n",
       "      <th>avg lum</th>\n",
       "      <th>high lum</th>\n",
       "      <th>total</th>\n",
       "      <th>perc_low lum</th>\n",
       "      <th>perc_avg lum</th>\n",
       "      <th>perc_high_lum</th>\n",
       "    </tr>\n",
       "  </thead>\n",
       "  <tbody>\n",
       "    <tr>\n",
       "      <th>0</th>\n",
       "      <td>outdoor_natura</td>\n",
       "      <td>190</td>\n",
       "      <td>187</td>\n",
       "      <td>215</td>\n",
       "      <td>592</td>\n",
       "      <td>0.320946</td>\n",
       "      <td>0.315878</td>\n",
       "      <td>0.363176</td>\n",
       "    </tr>\n",
       "    <tr>\n",
       "      <th>1</th>\n",
       "      <td>indoor_man-made</td>\n",
       "      <td>245</td>\n",
       "      <td>36</td>\n",
       "      <td>10</td>\n",
       "      <td>291</td>\n",
       "      <td>0.841924</td>\n",
       "      <td>0.123711</td>\n",
       "      <td>0.034364</td>\n",
       "    </tr>\n",
       "    <tr>\n",
       "      <th>2</th>\n",
       "      <td>outdoor_man-made</td>\n",
       "      <td>451</td>\n",
       "      <td>166</td>\n",
       "      <td>167</td>\n",
       "      <td>784</td>\n",
       "      <td>0.575255</td>\n",
       "      <td>0.211735</td>\n",
       "      <td>0.213010</td>\n",
       "    </tr>\n",
       "  </tbody>\n",
       "</table>\n",
       "</div>"
      ],
      "text/plain": [
       "        light_built  low lum  avg lum  high lum  total  perc_low lum  \\\n",
       "0    outdoor_natura      190      187       215    592      0.320946   \n",
       "1   indoor_man-made      245       36        10    291      0.841924   \n",
       "2  outdoor_man-made      451      166       167    784      0.575255   \n",
       "\n",
       "   perc_avg lum  perc_high_lum  \n",
       "0      0.315878       0.363176  \n",
       "1      0.123711       0.034364  \n",
       "2      0.211735       0.213010  "
      ]
     },
     "execution_count": 52,
     "metadata": {},
     "output_type": "execute_result"
    }
   ],
   "source": [
    "luminosity_hdrplus_cluster_sum_lum[\"perc_high_lum\"] = luminosity_hdrplus_cluster_sum_lum[\"high lum\"] / luminosity_hdrplus_cluster_sum_lum[\"total\"]\n",
    "luminosity_hdrplus_cluster_sum_lum"
   ]
  },
  {
   "cell_type": "code",
   "execution_count": 53,
   "id": "8eaa5c7f-e55a-493d-9579-d3efe977484f",
   "metadata": {},
   "outputs": [
    {
     "data": {
      "text/html": [
       "<div>\n",
       "<style scoped>\n",
       "    .dataframe tbody tr th:only-of-type {\n",
       "        vertical-align: middle;\n",
       "    }\n",
       "\n",
       "    .dataframe tbody tr th {\n",
       "        vertical-align: top;\n",
       "    }\n",
       "\n",
       "    .dataframe thead th {\n",
       "        text-align: right;\n",
       "    }\n",
       "</style>\n",
       "<table border=\"1\" class=\"dataframe\">\n",
       "  <thead>\n",
       "    <tr style=\"text-align: right;\">\n",
       "      <th></th>\n",
       "      <th>image_name</th>\n",
       "      <th>image_idx_x</th>\n",
       "      <th>categories</th>\n",
       "      <th>attributes</th>\n",
       "      <th>light_source</th>\n",
       "      <th>area</th>\n",
       "      <th>light_area</th>\n",
       "      <th>built</th>\n",
       "      <th>scary</th>\n",
       "      <th>working</th>\n",
       "      <th>...</th>\n",
       "      <th>red</th>\n",
       "      <th>yellow</th>\n",
       "      <th>green</th>\n",
       "      <th>blue</th>\n",
       "      <th>magenta</th>\n",
       "      <th>labels</th>\n",
       "      <th>image_idx</th>\n",
       "      <th>a</th>\n",
       "      <th>b</th>\n",
       "      <th>mse_err</th>\n",
       "    </tr>\n",
       "  </thead>\n",
       "  <tbody>\n",
       "    <tr>\n",
       "      <th>2</th>\n",
       "      <td>D:/HDRplus_dataset/train/input/0039_20141005_1...</td>\n",
       "      <td>2</td>\n",
       "      <td>forest/broadleaf#sky#tree_house#botanical_gard...</td>\n",
       "      <td>natural light#no horizon#open area#trees#natur...</td>\n",
       "      <td>outdoor</td>\n",
       "      <td>open</td>\n",
       "      <td>outdoor_open</td>\n",
       "      <td>man-made</td>\n",
       "      <td>not_scary</td>\n",
       "      <td>not_working</td>\n",
       "      <td>...</td>\n",
       "      <td>0</td>\n",
       "      <td>1</td>\n",
       "      <td>0</td>\n",
       "      <td>1</td>\n",
       "      <td>0</td>\n",
       "      <td>3</td>\n",
       "      <td>2</td>\n",
       "      <td>1.600281</td>\n",
       "      <td>0.410535</td>\n",
       "      <td>0.067701</td>\n",
       "    </tr>\n",
       "    <tr>\n",
       "      <th>3</th>\n",
       "      <td>D:/HDRplus_dataset/train/input/0039_20141005_1...</td>\n",
       "      <td>3</td>\n",
       "      <td>aqueduct#church/indoor#arch#alcove#museum/outdoo</td>\n",
       "      <td>man-made#natural light#no horizon#open area#su...</td>\n",
       "      <td>outdoor</td>\n",
       "      <td>open</td>\n",
       "      <td>outdoor_open</td>\n",
       "      <td>man-made</td>\n",
       "      <td>not_scary</td>\n",
       "      <td>not_working</td>\n",
       "      <td>...</td>\n",
       "      <td>0</td>\n",
       "      <td>1</td>\n",
       "      <td>0</td>\n",
       "      <td>1</td>\n",
       "      <td>0</td>\n",
       "      <td>0</td>\n",
       "      <td>3</td>\n",
       "      <td>2.180371</td>\n",
       "      <td>0.492916</td>\n",
       "      <td>0.062531</td>\n",
       "    </tr>\n",
       "    <tr>\n",
       "      <th>4</th>\n",
       "      <td>D:/HDRplus_dataset/train/input/0039_20141005_1...</td>\n",
       "      <td>4</td>\n",
       "      <td>courtyard#zen_garden#driveway#japanese_garden#...</td>\n",
       "      <td>natural light#open area#foliage#trees#man-made...</td>\n",
       "      <td>outdoor</td>\n",
       "      <td>open</td>\n",
       "      <td>outdoor_open</td>\n",
       "      <td>man-made</td>\n",
       "      <td>not_scary</td>\n",
       "      <td>not_working</td>\n",
       "      <td>...</td>\n",
       "      <td>0</td>\n",
       "      <td>1</td>\n",
       "      <td>1</td>\n",
       "      <td>1</td>\n",
       "      <td>0</td>\n",
       "      <td>3</td>\n",
       "      <td>4</td>\n",
       "      <td>1.508807</td>\n",
       "      <td>0.409090</td>\n",
       "      <td>0.084967</td>\n",
       "    </tr>\n",
       "    <tr>\n",
       "      <th>5</th>\n",
       "      <td>D:/HDRplus_dataset/train/input/0039_20141005_1...</td>\n",
       "      <td>5</td>\n",
       "      <td>ruin#kasbah#landfill#archaelogical_excavation#slu</td>\n",
       "      <td>natural light#man-made#open area#no horizon#su...</td>\n",
       "      <td>outdoor</td>\n",
       "      <td>open</td>\n",
       "      <td>outdoor_open</td>\n",
       "      <td>man-made</td>\n",
       "      <td>not_scary</td>\n",
       "      <td>not_working</td>\n",
       "      <td>...</td>\n",
       "      <td>0</td>\n",
       "      <td>0</td>\n",
       "      <td>0</td>\n",
       "      <td>1</td>\n",
       "      <td>0</td>\n",
       "      <td>2</td>\n",
       "      <td>5</td>\n",
       "      <td>1.814282</td>\n",
       "      <td>0.423203</td>\n",
       "      <td>0.090547</td>\n",
       "    </tr>\n",
       "    <tr>\n",
       "      <th>6</th>\n",
       "      <td>D:/HDRplus_dataset/train/input/0039_20141005_1...</td>\n",
       "      <td>6</td>\n",
       "      <td>fishpond#pond#lake/natural#swimming_hole#mars</td>\n",
       "      <td>no horizon#natural light#open area#moist#natur...</td>\n",
       "      <td>outdoor</td>\n",
       "      <td>open</td>\n",
       "      <td>outdoor_open</td>\n",
       "      <td>man-made</td>\n",
       "      <td>not_scary</td>\n",
       "      <td>not_working</td>\n",
       "      <td>...</td>\n",
       "      <td>0</td>\n",
       "      <td>1</td>\n",
       "      <td>0</td>\n",
       "      <td>0</td>\n",
       "      <td>0</td>\n",
       "      <td>1</td>\n",
       "      <td>6</td>\n",
       "      <td>1.823857</td>\n",
       "      <td>0.433325</td>\n",
       "      <td>0.062871</td>\n",
       "    </tr>\n",
       "    <tr>\n",
       "      <th>...</th>\n",
       "      <td>...</td>\n",
       "      <td>...</td>\n",
       "      <td>...</td>\n",
       "      <td>...</td>\n",
       "      <td>...</td>\n",
       "      <td>...</td>\n",
       "      <td>...</td>\n",
       "      <td>...</td>\n",
       "      <td>...</td>\n",
       "      <td>...</td>\n",
       "      <td>...</td>\n",
       "      <td>...</td>\n",
       "      <td>...</td>\n",
       "      <td>...</td>\n",
       "      <td>...</td>\n",
       "      <td>...</td>\n",
       "      <td>...</td>\n",
       "      <td>...</td>\n",
       "      <td>...</td>\n",
       "      <td>...</td>\n",
       "      <td>...</td>\n",
       "    </tr>\n",
       "    <tr>\n",
       "      <th>1650</th>\n",
       "      <td>D:/HDRplus_dataset/train/input/JN34_20150319_2...</td>\n",
       "      <td>1666</td>\n",
       "      <td>highway#hangar/outdoor#construction_site#stree...</td>\n",
       "      <td>man-made#open area#driving#natural light#no ho...</td>\n",
       "      <td>outdoor</td>\n",
       "      <td>open</td>\n",
       "      <td>outdoor_open</td>\n",
       "      <td>man-made</td>\n",
       "      <td>not_scary</td>\n",
       "      <td>not_working</td>\n",
       "      <td>...</td>\n",
       "      <td>1</td>\n",
       "      <td>1</td>\n",
       "      <td>0</td>\n",
       "      <td>1</td>\n",
       "      <td>0</td>\n",
       "      <td>3</td>\n",
       "      <td>1666</td>\n",
       "      <td>2.723688</td>\n",
       "      <td>0.394280</td>\n",
       "      <td>0.033341</td>\n",
       "    </tr>\n",
       "    <tr>\n",
       "      <th>1651</th>\n",
       "      <td>D:/HDRplus_dataset/train/input/JN34_20150321_1...</td>\n",
       "      <td>1667</td>\n",
       "      <td>sky#airfield#landing_deck#heliport#runwa</td>\n",
       "      <td>natural light#open area#clouds#natural#far-awa...</td>\n",
       "      <td>outdoor</td>\n",
       "      <td>open</td>\n",
       "      <td>outdoor_open</td>\n",
       "      <td>man-made</td>\n",
       "      <td>not_scary</td>\n",
       "      <td>not_working</td>\n",
       "      <td>...</td>\n",
       "      <td>0</td>\n",
       "      <td>1</td>\n",
       "      <td>0</td>\n",
       "      <td>0</td>\n",
       "      <td>0</td>\n",
       "      <td>0</td>\n",
       "      <td>1667</td>\n",
       "      <td>2.392820</td>\n",
       "      <td>0.435681</td>\n",
       "      <td>0.034149</td>\n",
       "    </tr>\n",
       "    <tr>\n",
       "      <th>1652</th>\n",
       "      <td>D:/HDRplus_dataset/train/input/JN34_20150324_1...</td>\n",
       "      <td>1668</td>\n",
       "      <td>rope_bridge#lagoon#bridge#islet#sk</td>\n",
       "      <td>open area#natural light#far-away horizon#cloud...</td>\n",
       "      <td>outdoor</td>\n",
       "      <td>open</td>\n",
       "      <td>outdoor_open</td>\n",
       "      <td>man-made</td>\n",
       "      <td>not_scary</td>\n",
       "      <td>not_working</td>\n",
       "      <td>...</td>\n",
       "      <td>0</td>\n",
       "      <td>1</td>\n",
       "      <td>0</td>\n",
       "      <td>0</td>\n",
       "      <td>0</td>\n",
       "      <td>0</td>\n",
       "      <td>1668</td>\n",
       "      <td>2.014468</td>\n",
       "      <td>0.435029</td>\n",
       "      <td>0.049038</td>\n",
       "    </tr>\n",
       "    <tr>\n",
       "      <th>1657</th>\n",
       "      <td>D:/HDRplus_dataset/train/input/JN34_20150324_1...</td>\n",
       "      <td>1673</td>\n",
       "      <td>gas_station#phone_booth#basement#garage/indoor...</td>\n",
       "      <td>no horizon#man-made#natural light#enclosed are...</td>\n",
       "      <td>outdoor</td>\n",
       "      <td>enclosed</td>\n",
       "      <td>outdoor_enclosed</td>\n",
       "      <td>man-made</td>\n",
       "      <td>not_scary</td>\n",
       "      <td>not_working</td>\n",
       "      <td>...</td>\n",
       "      <td>0</td>\n",
       "      <td>1</td>\n",
       "      <td>1</td>\n",
       "      <td>0</td>\n",
       "      <td>0</td>\n",
       "      <td>1</td>\n",
       "      <td>1673</td>\n",
       "      <td>2.220447</td>\n",
       "      <td>0.453019</td>\n",
       "      <td>0.057171</td>\n",
       "    </tr>\n",
       "    <tr>\n",
       "      <th>1660</th>\n",
       "      <td>D:/HDRplus_dataset/train/input/JN34_20150327_2...</td>\n",
       "      <td>1677</td>\n",
       "      <td>bridge#oilrig#viaduct#tower#lighthous</td>\n",
       "      <td>man-made#open area#natural light#far-away hori...</td>\n",
       "      <td>outdoor</td>\n",
       "      <td>open</td>\n",
       "      <td>outdoor_open</td>\n",
       "      <td>man-made</td>\n",
       "      <td>not_scary</td>\n",
       "      <td>not_working</td>\n",
       "      <td>...</td>\n",
       "      <td>0</td>\n",
       "      <td>0</td>\n",
       "      <td>0</td>\n",
       "      <td>1</td>\n",
       "      <td>1</td>\n",
       "      <td>2</td>\n",
       "      <td>1677</td>\n",
       "      <td>2.449118</td>\n",
       "      <td>0.398031</td>\n",
       "      <td>0.014389</td>\n",
       "    </tr>\n",
       "  </tbody>\n",
       "</table>\n",
       "<p>784 rows × 27 columns</p>\n",
       "</div>"
      ],
      "text/plain": [
       "                                             image_name  image_idx_x  \\\n",
       "2     D:/HDRplus_dataset/train/input/0039_20141005_1...            2   \n",
       "3     D:/HDRplus_dataset/train/input/0039_20141005_1...            3   \n",
       "4     D:/HDRplus_dataset/train/input/0039_20141005_1...            4   \n",
       "5     D:/HDRplus_dataset/train/input/0039_20141005_1...            5   \n",
       "6     D:/HDRplus_dataset/train/input/0039_20141005_1...            6   \n",
       "...                                                 ...          ...   \n",
       "1650  D:/HDRplus_dataset/train/input/JN34_20150319_2...         1666   \n",
       "1651  D:/HDRplus_dataset/train/input/JN34_20150321_1...         1667   \n",
       "1652  D:/HDRplus_dataset/train/input/JN34_20150324_1...         1668   \n",
       "1657  D:/HDRplus_dataset/train/input/JN34_20150324_1...         1673   \n",
       "1660  D:/HDRplus_dataset/train/input/JN34_20150327_2...         1677   \n",
       "\n",
       "                                             categories  \\\n",
       "2     forest/broadleaf#sky#tree_house#botanical_gard...   \n",
       "3      aqueduct#church/indoor#arch#alcove#museum/outdoo   \n",
       "4     courtyard#zen_garden#driveway#japanese_garden#...   \n",
       "5     ruin#kasbah#landfill#archaelogical_excavation#slu   \n",
       "6         fishpond#pond#lake/natural#swimming_hole#mars   \n",
       "...                                                 ...   \n",
       "1650  highway#hangar/outdoor#construction_site#stree...   \n",
       "1651           sky#airfield#landing_deck#heliport#runwa   \n",
       "1652                 rope_bridge#lagoon#bridge#islet#sk   \n",
       "1657  gas_station#phone_booth#basement#garage/indoor...   \n",
       "1660              bridge#oilrig#viaduct#tower#lighthous   \n",
       "\n",
       "                                             attributes light_source  \\\n",
       "2     natural light#no horizon#open area#trees#natur...      outdoor   \n",
       "3     man-made#natural light#no horizon#open area#su...      outdoor   \n",
       "4     natural light#open area#foliage#trees#man-made...      outdoor   \n",
       "5     natural light#man-made#open area#no horizon#su...      outdoor   \n",
       "6     no horizon#natural light#open area#moist#natur...      outdoor   \n",
       "...                                                 ...          ...   \n",
       "1650  man-made#open area#driving#natural light#no ho...      outdoor   \n",
       "1651  natural light#open area#clouds#natural#far-awa...      outdoor   \n",
       "1652  open area#natural light#far-away horizon#cloud...      outdoor   \n",
       "1657  no horizon#man-made#natural light#enclosed are...      outdoor   \n",
       "1660  man-made#open area#natural light#far-away hori...      outdoor   \n",
       "\n",
       "          area        light_area     built      scary      working  ... red  \\\n",
       "2         open      outdoor_open  man-made  not_scary  not_working  ...   0   \n",
       "3         open      outdoor_open  man-made  not_scary  not_working  ...   0   \n",
       "4         open      outdoor_open  man-made  not_scary  not_working  ...   0   \n",
       "5         open      outdoor_open  man-made  not_scary  not_working  ...   0   \n",
       "6         open      outdoor_open  man-made  not_scary  not_working  ...   0   \n",
       "...        ...               ...       ...        ...          ...  ...  ..   \n",
       "1650      open      outdoor_open  man-made  not_scary  not_working  ...   1   \n",
       "1651      open      outdoor_open  man-made  not_scary  not_working  ...   0   \n",
       "1652      open      outdoor_open  man-made  not_scary  not_working  ...   0   \n",
       "1657  enclosed  outdoor_enclosed  man-made  not_scary  not_working  ...   0   \n",
       "1660      open      outdoor_open  man-made  not_scary  not_working  ...   0   \n",
       "\n",
       "     yellow green  blue  magenta  labels  image_idx         a         b  \\\n",
       "2         1     0     1        0       3          2  1.600281  0.410535   \n",
       "3         1     0     1        0       0          3  2.180371  0.492916   \n",
       "4         1     1     1        0       3          4  1.508807  0.409090   \n",
       "5         0     0     1        0       2          5  1.814282  0.423203   \n",
       "6         1     0     0        0       1          6  1.823857  0.433325   \n",
       "...     ...   ...   ...      ...     ...        ...       ...       ...   \n",
       "1650      1     0     1        0       3       1666  2.723688  0.394280   \n",
       "1651      1     0     0        0       0       1667  2.392820  0.435681   \n",
       "1652      1     0     0        0       0       1668  2.014468  0.435029   \n",
       "1657      1     1     0        0       1       1673  2.220447  0.453019   \n",
       "1660      0     0     1        1       2       1677  2.449118  0.398031   \n",
       "\n",
       "       mse_err  \n",
       "2     0.067701  \n",
       "3     0.062531  \n",
       "4     0.084967  \n",
       "5     0.090547  \n",
       "6     0.062871  \n",
       "...        ...  \n",
       "1650  0.033341  \n",
       "1651  0.034149  \n",
       "1652  0.049038  \n",
       "1657  0.057171  \n",
       "1660  0.014389  \n",
       "\n",
       "[784 rows x 27 columns]"
      ]
     },
     "execution_count": 53,
     "metadata": {},
     "output_type": "execute_result"
    }
   ],
   "source": [
    "outdoor_man_df = luminosity_hdrplus_cluster[luminosity_hdrplus_cluster[\"light_built\"] == \"outdoor_man-made\"]\n",
    "outdoor_man_df"
   ]
  },
  {
   "cell_type": "code",
   "execution_count": null,
   "id": "32bcfe6c-d455-45e9-894e-df874e6cbb8c",
   "metadata": {},
   "outputs": [],
   "source": []
  }
 ],
 "metadata": {
  "kernelspec": {
   "display_name": "Python 3 (ipykernel)",
   "language": "python",
   "name": "python3"
  },
  "language_info": {
   "codemirror_mode": {
    "name": "ipython",
    "version": 3
   },
   "file_extension": ".py",
   "mimetype": "text/x-python",
   "name": "python",
   "nbconvert_exporter": "python",
   "pygments_lexer": "ipython3",
   "version": "3.11.4"
  }
 },
 "nbformat": 4,
 "nbformat_minor": 5
}
