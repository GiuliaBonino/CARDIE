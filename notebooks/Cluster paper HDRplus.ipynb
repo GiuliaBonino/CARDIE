{
 "cells": [
  {
   "cell_type": "markdown",
   "id": "3a03c016-beab-4022-849b-21450c44278c",
   "metadata": {},
   "source": [
    "# KS ANALYSIS FOR HDRPLUS Expert\n",
    "\n",
    "\n",
    "The effect of the image enhancement operator is computed using this function: \n",
    "\n",
    "\\begin{equation}\n",
    "L_{\\mathrm{out}} = \\frac{L_{\\mathrm{in}}^{\\gamma}}{L_{\\mathrm{in}}^{\\gamma} + \\mu^{\\gamma}} \n",
    "\\end{equation}\n",
    "\n",
    "See paper for more details"
   ]
  },
  {
   "cell_type": "code",
   "execution_count": 1,
   "id": "51902f32-691a-4416-995c-f6a8c6454325",
   "metadata": {},
   "outputs": [],
   "source": [
    "import pandas as pd\n",
    "import numpy as np\n",
    "import matplotlib.pyplot as plt\n",
    "from scipy import stats\n",
    "import seaborn as sns\n",
    "import matplotlib.pylab as plt\n",
    "from matplotlib.colors import LinearSegmentedColormap"
   ]
  },
  {
   "cell_type": "code",
   "execution_count": 2,
   "id": "a1473fb5-e9b4-4647-8d65-8f6ff36c9f0d",
   "metadata": {},
   "outputs": [],
   "source": [
    "def assign_cluster_names(df,\n",
    "                  column_names,\n",
    "                  red_column_names,\n",
    "                  name_thr=0.6,\n",
    "                  add_names_column=True):\n",
    "    \n",
    "    df_labels = list(set(df[\"labels\"].values))\n",
    "    print(df_labels)\n",
    "    \n",
    "    cluster_names = []\n",
    "    cluster_counts = []\n",
    "    \n",
    "    for label in df_labels:\n",
    "        df_cluster = df[df[\"labels\"]==label]\n",
    "        \n",
    "        df_cluster_counts = df_cluster[column_names].sum().values / len(df_cluster)\n",
    "        df_cluster_counts = np.where(df_cluster_counts <= name_thr, df_cluster_counts, 1.0)\n",
    "        df_cluster_counts = np.where(df_cluster_counts > name_thr, df_cluster_counts, 0.0)\n",
    "        \n",
    "        clust_name = \"\"\n",
    "        for j, count in enumerate(df_cluster_counts):   \n",
    "            if count == 1:\n",
    "                clust_name += red_column_names[j] \n",
    "        \n",
    "        cluster_names.append(clust_name)\n",
    "        cluster_counts.append(df_cluster_counts)\n",
    "\n",
    "    print(cluster_names)\n",
    "        \n",
    "      \n",
    "    #cluster_names =  cluster_names[:-1] #+ [\"UN\"]\n",
    "\n",
    "    if add_names_column:\n",
    "        map_label_names = {}\n",
    "        \n",
    "        for j, c_name in enumerate(cluster_names):\n",
    "            if j == len(cluster_names)-1:\n",
    "                j = -1\n",
    "            map_label_names[j] = c_name\n",
    "        \n",
    "        df[\"label_name\"] = df[\"labels\"].map(map_label_names)\n",
    "\n",
    "    return cluster_names, cluster_counts"
   ]
  },
  {
   "cell_type": "code",
   "execution_count": 3,
   "id": "8aff54e1-ef1d-4709-89b0-d7657dfceb53",
   "metadata": {},
   "outputs": [],
   "source": [
    "def assign_luminosity_level(df):\n",
    "    df[\"luminosity\"] = [\"0low lum\"]*len(df)\n",
    "    df.loc[df[\"avg lum\"] == 1 , \"luminosity\"] = \"1avg lum\"\n",
    "    df.loc[df[\"high lum\"] == 1 , \"luminosity\"] = \"2high lum\"\n",
    "    return None"
   ]
  },
  {
   "cell_type": "code",
   "execution_count": 4,
   "id": "bcded56a-b3be-46a5-bff8-2456c93c48bc",
   "metadata": {},
   "outputs": [],
   "source": [
    "def plot_parameter_distribution_per_luminosity(df, param=\"a\", n_bins=50):\n",
    "    df = df[df[\"b\"] < 1e10]\n",
    "    df = df[df[\"a\"] < 1e10]\n",
    "    RD_a_low = df[df[\"luminosity\"]==\"0low lum\"][param].values\n",
    "    RD_a_avg = df[df[\"luminosity\"]==\"1avg lum\"][param].values\n",
    "    RD_a_high = df[df[\"luminosity\"]==\"2high lum\"][param].values\n",
    "    \n",
    "    plt.hist(RD_a_low, n_bins, weights=np.ones(len(RD_a_low)) / len(RD_a_low), color=\"r\", label=\"low\",alpha=0.3)\n",
    "    plt.hist(RD_a_avg, n_bins, weights=np.ones(len(RD_a_avg)) / len(RD_a_avg), color=\"b\", label=\"avg\",alpha=0.3)\n",
    "    plt.hist(RD_a_high, n_bins, weights=np.ones(len(RD_a_high)) / len(RD_a_high), color=\"g\", label=\"low\",alpha=0.3)\n",
    "    \n",
    "    plt.legend()\n",
    "    if param == \"a\":\n",
    "        title = r\"$\\gamma$\"\n",
    "    elif param == \"b\":\n",
    "        title = r\"$\\mu$\"\n",
    "    else:\n",
    "        title = param\n",
    "    plt.title(title)"
   ]
  },
  {
   "cell_type": "code",
   "execution_count": 5,
   "id": "9885e540-f6c0-4dc8-bb2d-733f48d4b155",
   "metadata": {},
   "outputs": [],
   "source": [
    "def param_distr_per_feature(df, feature):\n",
    "    \n",
    "    features = list(set(df[feature].values))\n",
    "    a_feature = []\n",
    "    b_feature = []\n",
    "    \n",
    "    for j in features:\n",
    "        a_feature.append(df[df[feature]==j][\"a\"].values)\n",
    "        b_feature.append(df[df[feature]==j][\"b\"].values)\n",
    "\n",
    "    return a_feature, b_feature"
   ]
  },
  {
   "cell_type": "code",
   "execution_count": 6,
   "id": "4b5db0d1-f851-46c1-a2ba-1e2d752e0aa0",
   "metadata": {},
   "outputs": [],
   "source": [
    "def ks_test(p_distributions, p_names, plot=True, alpha=0.05, title=None, cbar=False, save_path=''):\n",
    "    \n",
    "    p_values = []\n",
    "    \n",
    "    for i in range(len(p_distributions)):\n",
    "        p_value_i = []\n",
    "        for k in range(len(p_distributions)):\n",
    "            p_value_ij = stats.ks_2samp(p_distributions[i], p_distributions[k])[1] <= alpha\n",
    "            p_value_i.append(p_value_ij)\n",
    "        p_values.append(p_value_i)\n",
    "        \n",
    "    if plot:\n",
    "        mask = np.zeros_like(p_values)\n",
    "        mask[np.triu_indices_from(mask)] = True\n",
    "        \n",
    "        colors = [\"red\", \"green\"] \n",
    "        cmap = LinearSegmentedColormap.from_list('Custom', colors, len(colors))\n",
    "        \n",
    "        ax = sns.heatmap(p_values, mask=mask, linewidth=0.5, xticklabels=p_names, yticklabels=p_names, cmap=cmap, vmin=0.0, vmax=1.0, cbar=cbar)\n",
    "\n",
    "        if cbar == True:\n",
    "            colorbar = ax.collections[0].colorbar\n",
    "            colorbar.set_ticks([0.25,0.75])\n",
    "            colorbar.set_ticklabels(['False', 'True'])\n",
    "        \n",
    "        ax.set_title(title)\n",
    "        \n",
    "        if save_path != '':\n",
    "            plt.savefig(save_path)\n",
    "            \n",
    "    return p_values"
   ]
  },
  {
   "cell_type": "code",
   "execution_count": 7,
   "id": "8dce441c-b4ec-48ca-b984-b48739486a2b",
   "metadata": {},
   "outputs": [],
   "source": [
    "def plot_a_b_per_group(df, group_name, q_low=0.40, q_high=0.60):\n",
    "    \n",
    "    median_fits_values = df[[\"a\", \"b\", \"mse_err\", group_name]].groupby(group_name, as_index=False).quantile()\n",
    "    median_fits_values_low = df[[\"a\", \"b\", \"mse_err\", group_name]].groupby(group_name, as_index=False).quantile(q=q_low)\n",
    "    median_fits_values_high = df[[\"a\", \"b\", \"mse_err\", group_name]].groupby(group_name, as_index=False).quantile(q=q_high)\n",
    "    \n",
    "    for j in range(len(median_fits_values)):\n",
    "        \n",
    "        aerr = (median_fits_values_high.iloc[j][\"a\"] - median_fits_values_low.iloc[j][\"a\"])/2.\n",
    "        berr = (median_fits_values_high.iloc[j][\"b\"] - median_fits_values_low.iloc[j][\"b\"])/2.0\n",
    "        \n",
    "        plt.errorbar(median_fits_values.iloc[j][\"a\"],\n",
    "             median_fits_values.iloc[j][\"b\"],\n",
    "             xerr=aerr,\n",
    "             yerr=berr,\n",
    "             fmt=\"o\",\n",
    "             label=median_fits_values.iloc[j][group_name])\n",
    "        \n",
    "    plt.xlabel(r\"$\\gamma$\")\n",
    "    plt.ylabel(r\"$\\mu$\")\n",
    "    plt.legend()\n",
    "    plt.show()"
   ]
  },
  {
   "cell_type": "code",
   "execution_count": 8,
   "id": "d06acf42-7a89-48f6-8445-926ddde16271",
   "metadata": {},
   "outputs": [],
   "source": [
    "clusters_df = pd.read_csv(\"../data/clusters/hdrplus_train_labels_labels.csv\")"
   ]
  },
  {
   "cell_type": "code",
   "execution_count": 9,
   "id": "76b4a929-2b43-43a8-9705-8da54f6db28e",
   "metadata": {},
   "outputs": [
    {
     "name": "stdout",
     "output_type": "stream",
     "text": [
      "The percentage of unclassified images is = 0.04\n"
     ]
    }
   ],
   "source": [
    "print(\"The percentage of unclassified images is =\" , str(np.round(len(clusters_df[clusters_df[\"labels\"]==-1]) / len(clusters_df),3))) "
   ]
  },
  {
   "cell_type": "code",
   "execution_count": 10,
   "id": "f54fd49c-413d-4274-99c8-8db9334a45ee",
   "metadata": {},
   "outputs": [],
   "source": [
    "#removing unclustered images \n",
    "clusters_df = clusters_df[clusters_df[\"labels\"]!=-1]"
   ]
  },
  {
   "cell_type": "code",
   "execution_count": 11,
   "id": "0dbf4cdc-bd65-43ec-847c-682c1fccb0e9",
   "metadata": {},
   "outputs": [
    {
     "data": {
      "text/html": [
       "<div>\n",
       "<style scoped>\n",
       "    .dataframe tbody tr th:only-of-type {\n",
       "        vertical-align: middle;\n",
       "    }\n",
       "\n",
       "    .dataframe tbody tr th {\n",
       "        vertical-align: top;\n",
       "    }\n",
       "\n",
       "    .dataframe thead th {\n",
       "        text-align: right;\n",
       "    }\n",
       "</style>\n",
       "<table border=\"1\" class=\"dataframe\">\n",
       "  <thead>\n",
       "    <tr style=\"text-align: right;\">\n",
       "      <th></th>\n",
       "      <th>labels</th>\n",
       "      <th>image_name</th>\n",
       "    </tr>\n",
       "  </thead>\n",
       "  <tbody>\n",
       "    <tr>\n",
       "      <th>0</th>\n",
       "      <td>0</td>\n",
       "      <td>340</td>\n",
       "    </tr>\n",
       "    <tr>\n",
       "      <th>1</th>\n",
       "      <td>1</td>\n",
       "      <td>390</td>\n",
       "    </tr>\n",
       "    <tr>\n",
       "      <th>2</th>\n",
       "      <td>2</td>\n",
       "      <td>363</td>\n",
       "    </tr>\n",
       "    <tr>\n",
       "      <th>3</th>\n",
       "      <td>3</td>\n",
       "      <td>304</td>\n",
       "    </tr>\n",
       "    <tr>\n",
       "      <th>4</th>\n",
       "      <td>4</td>\n",
       "      <td>219</td>\n",
       "    </tr>\n",
       "  </tbody>\n",
       "</table>\n",
       "</div>"
      ],
      "text/plain": [
       "   labels  image_name\n",
       "0       0         340\n",
       "1       1         390\n",
       "2       2         363\n",
       "3       3         304\n",
       "4       4         219"
      ]
     },
     "execution_count": 11,
     "metadata": {},
     "output_type": "execute_result"
    }
   ],
   "source": [
    "clusters_df[[\"image_name\", \"labels\"]].groupby(\"labels\", as_index=False).count()"
   ]
  },
  {
   "cell_type": "code",
   "execution_count": 12,
   "id": "de5e5834-e7f9-4aae-b413-bccf844e84f9",
   "metadata": {},
   "outputs": [
    {
     "name": "stdout",
     "output_type": "stream",
     "text": [
      "[0, 1, 2, 3, 4]\n",
      "['BrY', 'AvYB', 'DaB', 'DaYB', 'DaY']\n"
     ]
    }
   ],
   "source": [
    "cluster_names, cluster_counts  = assign_cluster_names(clusters_df,\n",
    "              ['low lum','avg lum','high lum','red','yellow','green','blue','magenta'],\n",
    "              [\"Da\", \"Av\", \"Br\", \"R\", \"Y\", \"G\", \"B\", \"M\"],\n",
    "              add_names_column=True\n",
    "             )"
   ]
  },
  {
   "cell_type": "code",
   "execution_count": 13,
   "id": "3022f873-3684-4213-b8fe-8a82b7d9c1b7",
   "metadata": {},
   "outputs": [],
   "source": [
    "hdrplus_df = pd.read_csv(\"../data/fit_luminance/mit5k_fits_HDRPlus_non_linear1.csv\")"
   ]
  },
  {
   "cell_type": "code",
   "execution_count": 14,
   "id": "6d766fb3-5d4e-4e1b-9d0d-af974951df02",
   "metadata": {},
   "outputs": [],
   "source": [
    "hdrplus_df = pd.merge(clusters_df, hdrplus_df,  how=\"inner\", on=\"image_idx\")"
   ]
  },
  {
   "cell_type": "code",
   "execution_count": 15,
   "id": "c89fefc3-c3c5-454e-9dde-6ab84e2273d8",
   "metadata": {},
   "outputs": [],
   "source": [
    "assign_luminosity_level(hdrplus_df)"
   ]
  },
  {
   "cell_type": "code",
   "execution_count": 16,
   "id": "00d643cd-8513-4a31-aa6d-27f9b4bd5abb",
   "metadata": {},
   "outputs": [
    {
     "data": {
      "text/html": [
       "<div>\n",
       "<style scoped>\n",
       "    .dataframe tbody tr th:only-of-type {\n",
       "        vertical-align: middle;\n",
       "    }\n",
       "\n",
       "    .dataframe tbody tr th {\n",
       "        vertical-align: top;\n",
       "    }\n",
       "\n",
       "    .dataframe thead th {\n",
       "        text-align: right;\n",
       "    }\n",
       "</style>\n",
       "<table border=\"1\" class=\"dataframe\">\n",
       "  <thead>\n",
       "    <tr style=\"text-align: right;\">\n",
       "      <th></th>\n",
       "      <th>image_name_x</th>\n",
       "      <th>image_idx</th>\n",
       "      <th>low lum</th>\n",
       "      <th>avg lum</th>\n",
       "      <th>high lum</th>\n",
       "      <th>red</th>\n",
       "      <th>yellow</th>\n",
       "      <th>green</th>\n",
       "      <th>blue</th>\n",
       "      <th>magenta</th>\n",
       "      <th>labels</th>\n",
       "      <th>label_name</th>\n",
       "      <th>image_name_y</th>\n",
       "      <th>a</th>\n",
       "      <th>b</th>\n",
       "      <th>mse_err</th>\n",
       "      <th>luminosity</th>\n",
       "    </tr>\n",
       "  </thead>\n",
       "  <tbody>\n",
       "    <tr>\n",
       "      <th>0</th>\n",
       "      <td>D:/HDRplus_dataset/train/input/0039_20141005_1...</td>\n",
       "      <td>3</td>\n",
       "      <td>0</td>\n",
       "      <td>0</td>\n",
       "      <td>1</td>\n",
       "      <td>0</td>\n",
       "      <td>1</td>\n",
       "      <td>0</td>\n",
       "      <td>1</td>\n",
       "      <td>0</td>\n",
       "      <td>0</td>\n",
       "      <td>BrY</td>\n",
       "      <td>D:/HDRplus_dataset/train/input/0039_20141005_1...</td>\n",
       "      <td>2.180371</td>\n",
       "      <td>0.492916</td>\n",
       "      <td>0.062531</td>\n",
       "      <td>2high lum</td>\n",
       "    </tr>\n",
       "    <tr>\n",
       "      <th>1</th>\n",
       "      <td>D:/HDRplus_dataset/train/input/0039_20141005_1...</td>\n",
       "      <td>8</td>\n",
       "      <td>0</td>\n",
       "      <td>0</td>\n",
       "      <td>1</td>\n",
       "      <td>0</td>\n",
       "      <td>1</td>\n",
       "      <td>0</td>\n",
       "      <td>0</td>\n",
       "      <td>0</td>\n",
       "      <td>0</td>\n",
       "      <td>BrY</td>\n",
       "      <td>D:/HDRplus_dataset/train/input/0039_20141005_1...</td>\n",
       "      <td>1.782209</td>\n",
       "      <td>0.471104</td>\n",
       "      <td>0.061776</td>\n",
       "      <td>2high lum</td>\n",
       "    </tr>\n",
       "    <tr>\n",
       "      <th>2</th>\n",
       "      <td>D:/HDRplus_dataset/train/input/0039_20141006_1...</td>\n",
       "      <td>19</td>\n",
       "      <td>0</td>\n",
       "      <td>0</td>\n",
       "      <td>1</td>\n",
       "      <td>0</td>\n",
       "      <td>1</td>\n",
       "      <td>0</td>\n",
       "      <td>1</td>\n",
       "      <td>0</td>\n",
       "      <td>0</td>\n",
       "      <td>BrY</td>\n",
       "      <td>D:/HDRplus_dataset/train/input/0039_20141006_1...</td>\n",
       "      <td>2.401742</td>\n",
       "      <td>0.480185</td>\n",
       "      <td>0.036913</td>\n",
       "      <td>2high lum</td>\n",
       "    </tr>\n",
       "    <tr>\n",
       "      <th>3</th>\n",
       "      <td>D:/HDRplus_dataset/train/input/0039_20141006_1...</td>\n",
       "      <td>20</td>\n",
       "      <td>0</td>\n",
       "      <td>0</td>\n",
       "      <td>1</td>\n",
       "      <td>0</td>\n",
       "      <td>1</td>\n",
       "      <td>0</td>\n",
       "      <td>1</td>\n",
       "      <td>0</td>\n",
       "      <td>0</td>\n",
       "      <td>BrY</td>\n",
       "      <td>D:/HDRplus_dataset/train/input/0039_20141006_1...</td>\n",
       "      <td>2.128302</td>\n",
       "      <td>0.490240</td>\n",
       "      <td>0.047378</td>\n",
       "      <td>2high lum</td>\n",
       "    </tr>\n",
       "    <tr>\n",
       "      <th>4</th>\n",
       "      <td>D:/HDRplus_dataset/train/input/0039_20141006_1...</td>\n",
       "      <td>24</td>\n",
       "      <td>0</td>\n",
       "      <td>0</td>\n",
       "      <td>1</td>\n",
       "      <td>0</td>\n",
       "      <td>1</td>\n",
       "      <td>0</td>\n",
       "      <td>1</td>\n",
       "      <td>0</td>\n",
       "      <td>0</td>\n",
       "      <td>BrY</td>\n",
       "      <td>D:/HDRplus_dataset/train/input/0039_20141006_1...</td>\n",
       "      <td>2.004134</td>\n",
       "      <td>0.464977</td>\n",
       "      <td>0.051888</td>\n",
       "      <td>2high lum</td>\n",
       "    </tr>\n",
       "    <tr>\n",
       "      <th>...</th>\n",
       "      <td>...</td>\n",
       "      <td>...</td>\n",
       "      <td>...</td>\n",
       "      <td>...</td>\n",
       "      <td>...</td>\n",
       "      <td>...</td>\n",
       "      <td>...</td>\n",
       "      <td>...</td>\n",
       "      <td>...</td>\n",
       "      <td>...</td>\n",
       "      <td>...</td>\n",
       "      <td>...</td>\n",
       "      <td>...</td>\n",
       "      <td>...</td>\n",
       "      <td>...</td>\n",
       "      <td>...</td>\n",
       "      <td>...</td>\n",
       "    </tr>\n",
       "    <tr>\n",
       "      <th>1611</th>\n",
       "      <td>D:/HDRplus_dataset/train/input/J6ZC_20150408_1...</td>\n",
       "      <td>1640</td>\n",
       "      <td>1</td>\n",
       "      <td>0</td>\n",
       "      <td>0</td>\n",
       "      <td>0</td>\n",
       "      <td>0</td>\n",
       "      <td>0</td>\n",
       "      <td>1</td>\n",
       "      <td>0</td>\n",
       "      <td>2</td>\n",
       "      <td>DaB</td>\n",
       "      <td>D:/HDRplus_dataset/train/input/J6ZC_20150408_1...</td>\n",
       "      <td>1.775092</td>\n",
       "      <td>0.319242</td>\n",
       "      <td>0.061531</td>\n",
       "      <td>0low lum</td>\n",
       "    </tr>\n",
       "    <tr>\n",
       "      <th>1612</th>\n",
       "      <td>D:/HDRplus_dataset/train/input/J6ZC_20150408_1...</td>\n",
       "      <td>1642</td>\n",
       "      <td>1</td>\n",
       "      <td>0</td>\n",
       "      <td>0</td>\n",
       "      <td>0</td>\n",
       "      <td>0</td>\n",
       "      <td>0</td>\n",
       "      <td>1</td>\n",
       "      <td>0</td>\n",
       "      <td>2</td>\n",
       "      <td>DaB</td>\n",
       "      <td>D:/HDRplus_dataset/train/input/J6ZC_20150408_1...</td>\n",
       "      <td>1.967941</td>\n",
       "      <td>0.393955</td>\n",
       "      <td>0.063236</td>\n",
       "      <td>0low lum</td>\n",
       "    </tr>\n",
       "    <tr>\n",
       "      <th>1613</th>\n",
       "      <td>D:/HDRplus_dataset/train/input/J6ZC_20150408_1...</td>\n",
       "      <td>1644</td>\n",
       "      <td>1</td>\n",
       "      <td>0</td>\n",
       "      <td>0</td>\n",
       "      <td>0</td>\n",
       "      <td>0</td>\n",
       "      <td>0</td>\n",
       "      <td>1</td>\n",
       "      <td>0</td>\n",
       "      <td>2</td>\n",
       "      <td>DaB</td>\n",
       "      <td>D:/HDRplus_dataset/train/input/J6ZC_20150408_1...</td>\n",
       "      <td>2.271451</td>\n",
       "      <td>0.340219</td>\n",
       "      <td>0.051510</td>\n",
       "      <td>0low lum</td>\n",
       "    </tr>\n",
       "    <tr>\n",
       "      <th>1614</th>\n",
       "      <td>D:/HDRplus_dataset/train/input/J6ZC_20150408_1...</td>\n",
       "      <td>1652</td>\n",
       "      <td>1</td>\n",
       "      <td>0</td>\n",
       "      <td>0</td>\n",
       "      <td>0</td>\n",
       "      <td>0</td>\n",
       "      <td>0</td>\n",
       "      <td>1</td>\n",
       "      <td>0</td>\n",
       "      <td>2</td>\n",
       "      <td>DaB</td>\n",
       "      <td>D:/HDRplus_dataset/train/input/J6ZC_20150408_1...</td>\n",
       "      <td>1.596797</td>\n",
       "      <td>0.434446</td>\n",
       "      <td>0.051543</td>\n",
       "      <td>0low lum</td>\n",
       "    </tr>\n",
       "    <tr>\n",
       "      <th>1615</th>\n",
       "      <td>D:/HDRplus_dataset/train/input/JN34_20150327_2...</td>\n",
       "      <td>1677</td>\n",
       "      <td>1</td>\n",
       "      <td>0</td>\n",
       "      <td>0</td>\n",
       "      <td>0</td>\n",
       "      <td>0</td>\n",
       "      <td>0</td>\n",
       "      <td>1</td>\n",
       "      <td>1</td>\n",
       "      <td>2</td>\n",
       "      <td>DaB</td>\n",
       "      <td>D:/HDRplus_dataset/train/input/JN34_20150327_2...</td>\n",
       "      <td>2.449118</td>\n",
       "      <td>0.398031</td>\n",
       "      <td>0.014389</td>\n",
       "      <td>0low lum</td>\n",
       "    </tr>\n",
       "  </tbody>\n",
       "</table>\n",
       "<p>1616 rows × 17 columns</p>\n",
       "</div>"
      ],
      "text/plain": [
       "                                           image_name_x  image_idx  low lum  \\\n",
       "0     D:/HDRplus_dataset/train/input/0039_20141005_1...          3        0   \n",
       "1     D:/HDRplus_dataset/train/input/0039_20141005_1...          8        0   \n",
       "2     D:/HDRplus_dataset/train/input/0039_20141006_1...         19        0   \n",
       "3     D:/HDRplus_dataset/train/input/0039_20141006_1...         20        0   \n",
       "4     D:/HDRplus_dataset/train/input/0039_20141006_1...         24        0   \n",
       "...                                                 ...        ...      ...   \n",
       "1611  D:/HDRplus_dataset/train/input/J6ZC_20150408_1...       1640        1   \n",
       "1612  D:/HDRplus_dataset/train/input/J6ZC_20150408_1...       1642        1   \n",
       "1613  D:/HDRplus_dataset/train/input/J6ZC_20150408_1...       1644        1   \n",
       "1614  D:/HDRplus_dataset/train/input/J6ZC_20150408_1...       1652        1   \n",
       "1615  D:/HDRplus_dataset/train/input/JN34_20150327_2...       1677        1   \n",
       "\n",
       "      avg lum  high lum  red  yellow  green  blue  magenta  labels label_name  \\\n",
       "0           0         1    0       1      0     1        0       0        BrY   \n",
       "1           0         1    0       1      0     0        0       0        BrY   \n",
       "2           0         1    0       1      0     1        0       0        BrY   \n",
       "3           0         1    0       1      0     1        0       0        BrY   \n",
       "4           0         1    0       1      0     1        0       0        BrY   \n",
       "...       ...       ...  ...     ...    ...   ...      ...     ...        ...   \n",
       "1611        0         0    0       0      0     1        0       2        DaB   \n",
       "1612        0         0    0       0      0     1        0       2        DaB   \n",
       "1613        0         0    0       0      0     1        0       2        DaB   \n",
       "1614        0         0    0       0      0     1        0       2        DaB   \n",
       "1615        0         0    0       0      0     1        1       2        DaB   \n",
       "\n",
       "                                           image_name_y         a         b  \\\n",
       "0     D:/HDRplus_dataset/train/input/0039_20141005_1...  2.180371  0.492916   \n",
       "1     D:/HDRplus_dataset/train/input/0039_20141005_1...  1.782209  0.471104   \n",
       "2     D:/HDRplus_dataset/train/input/0039_20141006_1...  2.401742  0.480185   \n",
       "3     D:/HDRplus_dataset/train/input/0039_20141006_1...  2.128302  0.490240   \n",
       "4     D:/HDRplus_dataset/train/input/0039_20141006_1...  2.004134  0.464977   \n",
       "...                                                 ...       ...       ...   \n",
       "1611  D:/HDRplus_dataset/train/input/J6ZC_20150408_1...  1.775092  0.319242   \n",
       "1612  D:/HDRplus_dataset/train/input/J6ZC_20150408_1...  1.967941  0.393955   \n",
       "1613  D:/HDRplus_dataset/train/input/J6ZC_20150408_1...  2.271451  0.340219   \n",
       "1614  D:/HDRplus_dataset/train/input/J6ZC_20150408_1...  1.596797  0.434446   \n",
       "1615  D:/HDRplus_dataset/train/input/JN34_20150327_2...  2.449118  0.398031   \n",
       "\n",
       "       mse_err luminosity  \n",
       "0     0.062531  2high lum  \n",
       "1     0.061776  2high lum  \n",
       "2     0.036913  2high lum  \n",
       "3     0.047378  2high lum  \n",
       "4     0.051888  2high lum  \n",
       "...        ...        ...  \n",
       "1611  0.061531   0low lum  \n",
       "1612  0.063236   0low lum  \n",
       "1613  0.051510   0low lum  \n",
       "1614  0.051543   0low lum  \n",
       "1615  0.014389   0low lum  \n",
       "\n",
       "[1616 rows x 17 columns]"
      ]
     },
     "execution_count": 16,
     "metadata": {},
     "output_type": "execute_result"
    }
   ],
   "source": [
    "hdrplus_df"
   ]
  },
  {
   "cell_type": "code",
   "execution_count": 17,
   "id": "df2329ec-d659-4520-8f5b-287bd1387978",
   "metadata": {},
   "outputs": [
    {
     "data": {
      "text/plain": [
       "(0.0, 0.201)"
      ]
     },
     "execution_count": 17,
     "metadata": {},
     "output_type": "execute_result"
    },
    {
     "data": {
      "image/png": "[encoded data removed]",
      "text/plain": [
       "<Figure size 640x480 with 1 Axes>"
      ]
     },
     "metadata": {},
     "output_type": "display_data"
    }
   ],
   "source": [
    "mses = hdrplus_df[\"mse_err\"].values\n",
    "\n",
    "plt.hist(mses, 50, weights=np.ones(len(mses)) / len(mses), color=\"r\",alpha=0.3)\n",
    "plt.title(r\"MSE for $\\mathcal{A}_{HDR+}$\")\n",
    "plt.xlim([0,0.201])\n"
   ]
  },
  {
   "cell_type": "code",
   "execution_count": 18,
   "id": "378a65b6-a15d-450d-84c5-a6b096812b4c",
   "metadata": {},
   "outputs": [
    {
     "data": {
      "text/plain": [
       "0.0558362888221032"
      ]
     },
     "execution_count": 18,
     "metadata": {},
     "output_type": "execute_result"
    }
   ],
   "source": [
    "np.median(mses)"
   ]
  },
  {
   "cell_type": "code",
   "execution_count": 19,
   "id": "4b8a57e5-774b-45dc-8179-89f68df8eef3",
   "metadata": {},
   "outputs": [
    {
     "data": {
      "text/plain": [
       "0.9591584158415841"
      ]
     },
     "execution_count": 19,
     "metadata": {},
     "output_type": "execute_result"
    }
   ],
   "source": [
    "len(mses[mses <0.1]) / len(mses)"
   ]
  },
  {
   "cell_type": "code",
   "execution_count": 20,
   "id": "18b3ccef-893c-4a76-950a-03840f1bbd6f",
   "metadata": {},
   "outputs": [
    {
     "data": {
      "image/png": "[encoded data removed]",
      "text/plain": [
       "<Figure size 640x480 with 1 Axes>"
      ]
     },
     "metadata": {},
     "output_type": "display_data"
    }
   ],
   "source": [
    "plot_a_b_per_group(hdrplus_df, \"luminosity\")"
   ]
  },
  {
   "cell_type": "code",
   "execution_count": 21,
   "id": "248c0c51-7bb1-4e2a-aeea-954861502dd9",
   "metadata": {},
   "outputs": [
    {
     "data": {
      "image/png": "[encoded data removed]",
      "text/plain": [
       "<Figure size 640x480 with 1 Axes>"
      ]
     },
     "metadata": {},
     "output_type": "display_data"
    }
   ],
   "source": [
    "plot_a_b_per_group(hdrplus_df, \"label_name\")"
   ]
  },
  {
   "cell_type": "code",
   "execution_count": 22,
   "id": "9e5f474a-093d-4791-98e9-d735b8f0222f",
   "metadata": {},
   "outputs": [
    {
     "data": {
      "text/html": [
       "<div>\n",
       "<style scoped>\n",
       "    .dataframe tbody tr th:only-of-type {\n",
       "        vertical-align: middle;\n",
       "    }\n",
       "\n",
       "    .dataframe tbody tr th {\n",
       "        vertical-align: top;\n",
       "    }\n",
       "\n",
       "    .dataframe thead th {\n",
       "        text-align: right;\n",
       "    }\n",
       "</style>\n",
       "<table border=\"1\" class=\"dataframe\">\n",
       "  <thead>\n",
       "    <tr style=\"text-align: right;\">\n",
       "      <th></th>\n",
       "      <th>image_name_x</th>\n",
       "      <th>image_idx</th>\n",
       "      <th>low lum</th>\n",
       "      <th>avg lum</th>\n",
       "      <th>high lum</th>\n",
       "      <th>red</th>\n",
       "      <th>yellow</th>\n",
       "      <th>green</th>\n",
       "      <th>blue</th>\n",
       "      <th>magenta</th>\n",
       "      <th>labels</th>\n",
       "      <th>label_name</th>\n",
       "      <th>image_name_y</th>\n",
       "      <th>a</th>\n",
       "      <th>b</th>\n",
       "      <th>mse_err</th>\n",
       "      <th>luminosity</th>\n",
       "    </tr>\n",
       "  </thead>\n",
       "  <tbody>\n",
       "    <tr>\n",
       "      <th>0</th>\n",
       "      <td>D:/HDRplus_dataset/train/input/0039_20141005_1...</td>\n",
       "      <td>3</td>\n",
       "      <td>0</td>\n",
       "      <td>0</td>\n",
       "      <td>1</td>\n",
       "      <td>0</td>\n",
       "      <td>1</td>\n",
       "      <td>0</td>\n",
       "      <td>1</td>\n",
       "      <td>0</td>\n",
       "      <td>0</td>\n",
       "      <td>BrY</td>\n",
       "      <td>D:/HDRplus_dataset/train/input/0039_20141005_1...</td>\n",
       "      <td>2.180371</td>\n",
       "      <td>0.492916</td>\n",
       "      <td>0.062531</td>\n",
       "      <td>2high lum</td>\n",
       "    </tr>\n",
       "    <tr>\n",
       "      <th>1</th>\n",
       "      <td>D:/HDRplus_dataset/train/input/0039_20141005_1...</td>\n",
       "      <td>8</td>\n",
       "      <td>0</td>\n",
       "      <td>0</td>\n",
       "      <td>1</td>\n",
       "      <td>0</td>\n",
       "      <td>1</td>\n",
       "      <td>0</td>\n",
       "      <td>0</td>\n",
       "      <td>0</td>\n",
       "      <td>0</td>\n",
       "      <td>BrY</td>\n",
       "      <td>D:/HDRplus_dataset/train/input/0039_20141005_1...</td>\n",
       "      <td>1.782209</td>\n",
       "      <td>0.471104</td>\n",
       "      <td>0.061776</td>\n",
       "      <td>2high lum</td>\n",
       "    </tr>\n",
       "    <tr>\n",
       "      <th>2</th>\n",
       "      <td>D:/HDRplus_dataset/train/input/0039_20141006_1...</td>\n",
       "      <td>19</td>\n",
       "      <td>0</td>\n",
       "      <td>0</td>\n",
       "      <td>1</td>\n",
       "      <td>0</td>\n",
       "      <td>1</td>\n",
       "      <td>0</td>\n",
       "      <td>1</td>\n",
       "      <td>0</td>\n",
       "      <td>0</td>\n",
       "      <td>BrY</td>\n",
       "      <td>D:/HDRplus_dataset/train/input/0039_20141006_1...</td>\n",
       "      <td>2.401742</td>\n",
       "      <td>0.480185</td>\n",
       "      <td>0.036913</td>\n",
       "      <td>2high lum</td>\n",
       "    </tr>\n",
       "    <tr>\n",
       "      <th>3</th>\n",
       "      <td>D:/HDRplus_dataset/train/input/0039_20141006_1...</td>\n",
       "      <td>20</td>\n",
       "      <td>0</td>\n",
       "      <td>0</td>\n",
       "      <td>1</td>\n",
       "      <td>0</td>\n",
       "      <td>1</td>\n",
       "      <td>0</td>\n",
       "      <td>1</td>\n",
       "      <td>0</td>\n",
       "      <td>0</td>\n",
       "      <td>BrY</td>\n",
       "      <td>D:/HDRplus_dataset/train/input/0039_20141006_1...</td>\n",
       "      <td>2.128302</td>\n",
       "      <td>0.490240</td>\n",
       "      <td>0.047378</td>\n",
       "      <td>2high lum</td>\n",
       "    </tr>\n",
       "    <tr>\n",
       "      <th>4</th>\n",
       "      <td>D:/HDRplus_dataset/train/input/0039_20141006_1...</td>\n",
       "      <td>24</td>\n",
       "      <td>0</td>\n",
       "      <td>0</td>\n",
       "      <td>1</td>\n",
       "      <td>0</td>\n",
       "      <td>1</td>\n",
       "      <td>0</td>\n",
       "      <td>1</td>\n",
       "      <td>0</td>\n",
       "      <td>0</td>\n",
       "      <td>BrY</td>\n",
       "      <td>D:/HDRplus_dataset/train/input/0039_20141006_1...</td>\n",
       "      <td>2.004134</td>\n",
       "      <td>0.464977</td>\n",
       "      <td>0.051888</td>\n",
       "      <td>2high lum</td>\n",
       "    </tr>\n",
       "    <tr>\n",
       "      <th>...</th>\n",
       "      <td>...</td>\n",
       "      <td>...</td>\n",
       "      <td>...</td>\n",
       "      <td>...</td>\n",
       "      <td>...</td>\n",
       "      <td>...</td>\n",
       "      <td>...</td>\n",
       "      <td>...</td>\n",
       "      <td>...</td>\n",
       "      <td>...</td>\n",
       "      <td>...</td>\n",
       "      <td>...</td>\n",
       "      <td>...</td>\n",
       "      <td>...</td>\n",
       "      <td>...</td>\n",
       "      <td>...</td>\n",
       "      <td>...</td>\n",
       "    </tr>\n",
       "    <tr>\n",
       "      <th>1611</th>\n",
       "      <td>D:/HDRplus_dataset/train/input/J6ZC_20150408_1...</td>\n",
       "      <td>1640</td>\n",
       "      <td>1</td>\n",
       "      <td>0</td>\n",
       "      <td>0</td>\n",
       "      <td>0</td>\n",
       "      <td>0</td>\n",
       "      <td>0</td>\n",
       "      <td>1</td>\n",
       "      <td>0</td>\n",
       "      <td>2</td>\n",
       "      <td>DaB</td>\n",
       "      <td>D:/HDRplus_dataset/train/input/J6ZC_20150408_1...</td>\n",
       "      <td>1.775092</td>\n",
       "      <td>0.319242</td>\n",
       "      <td>0.061531</td>\n",
       "      <td>0low lum</td>\n",
       "    </tr>\n",
       "    <tr>\n",
       "      <th>1612</th>\n",
       "      <td>D:/HDRplus_dataset/train/input/J6ZC_20150408_1...</td>\n",
       "      <td>1642</td>\n",
       "      <td>1</td>\n",
       "      <td>0</td>\n",
       "      <td>0</td>\n",
       "      <td>0</td>\n",
       "      <td>0</td>\n",
       "      <td>0</td>\n",
       "      <td>1</td>\n",
       "      <td>0</td>\n",
       "      <td>2</td>\n",
       "      <td>DaB</td>\n",
       "      <td>D:/HDRplus_dataset/train/input/J6ZC_20150408_1...</td>\n",
       "      <td>1.967941</td>\n",
       "      <td>0.393955</td>\n",
       "      <td>0.063236</td>\n",
       "      <td>0low lum</td>\n",
       "    </tr>\n",
       "    <tr>\n",
       "      <th>1613</th>\n",
       "      <td>D:/HDRplus_dataset/train/input/J6ZC_20150408_1...</td>\n",
       "      <td>1644</td>\n",
       "      <td>1</td>\n",
       "      <td>0</td>\n",
       "      <td>0</td>\n",
       "      <td>0</td>\n",
       "      <td>0</td>\n",
       "      <td>0</td>\n",
       "      <td>1</td>\n",
       "      <td>0</td>\n",
       "      <td>2</td>\n",
       "      <td>DaB</td>\n",
       "      <td>D:/HDRplus_dataset/train/input/J6ZC_20150408_1...</td>\n",
       "      <td>2.271451</td>\n",
       "      <td>0.340219</td>\n",
       "      <td>0.051510</td>\n",
       "      <td>0low lum</td>\n",
       "    </tr>\n",
       "    <tr>\n",
       "      <th>1614</th>\n",
       "      <td>D:/HDRplus_dataset/train/input/J6ZC_20150408_1...</td>\n",
       "      <td>1652</td>\n",
       "      <td>1</td>\n",
       "      <td>0</td>\n",
       "      <td>0</td>\n",
       "      <td>0</td>\n",
       "      <td>0</td>\n",
       "      <td>0</td>\n",
       "      <td>1</td>\n",
       "      <td>0</td>\n",
       "      <td>2</td>\n",
       "      <td>DaB</td>\n",
       "      <td>D:/HDRplus_dataset/train/input/J6ZC_20150408_1...</td>\n",
       "      <td>1.596797</td>\n",
       "      <td>0.434446</td>\n",
       "      <td>0.051543</td>\n",
       "      <td>0low lum</td>\n",
       "    </tr>\n",
       "    <tr>\n",
       "      <th>1615</th>\n",
       "      <td>D:/HDRplus_dataset/train/input/JN34_20150327_2...</td>\n",
       "      <td>1677</td>\n",
       "      <td>1</td>\n",
       "      <td>0</td>\n",
       "      <td>0</td>\n",
       "      <td>0</td>\n",
       "      <td>0</td>\n",
       "      <td>0</td>\n",
       "      <td>1</td>\n",
       "      <td>1</td>\n",
       "      <td>2</td>\n",
       "      <td>DaB</td>\n",
       "      <td>D:/HDRplus_dataset/train/input/JN34_20150327_2...</td>\n",
       "      <td>2.449118</td>\n",
       "      <td>0.398031</td>\n",
       "      <td>0.014389</td>\n",
       "      <td>0low lum</td>\n",
       "    </tr>\n",
       "  </tbody>\n",
       "</table>\n",
       "<p>1616 rows × 17 columns</p>\n",
       "</div>"
      ],
      "text/plain": [
       "                                           image_name_x  image_idx  low lum  \\\n",
       "0     D:/HDRplus_dataset/train/input/0039_20141005_1...          3        0   \n",
       "1     D:/HDRplus_dataset/train/input/0039_20141005_1...          8        0   \n",
       "2     D:/HDRplus_dataset/train/input/0039_20141006_1...         19        0   \n",
       "3     D:/HDRplus_dataset/train/input/0039_20141006_1...         20        0   \n",
       "4     D:/HDRplus_dataset/train/input/0039_20141006_1...         24        0   \n",
       "...                                                 ...        ...      ...   \n",
       "1611  D:/HDRplus_dataset/train/input/J6ZC_20150408_1...       1640        1   \n",
       "1612  D:/HDRplus_dataset/train/input/J6ZC_20150408_1...       1642        1   \n",
       "1613  D:/HDRplus_dataset/train/input/J6ZC_20150408_1...       1644        1   \n",
       "1614  D:/HDRplus_dataset/train/input/J6ZC_20150408_1...       1652        1   \n",
       "1615  D:/HDRplus_dataset/train/input/JN34_20150327_2...       1677        1   \n",
       "\n",
       "      avg lum  high lum  red  yellow  green  blue  magenta  labels label_name  \\\n",
       "0           0         1    0       1      0     1        0       0        BrY   \n",
       "1           0         1    0       1      0     0        0       0        BrY   \n",
       "2           0         1    0       1      0     1        0       0        BrY   \n",
       "3           0         1    0       1      0     1        0       0        BrY   \n",
       "4           0         1    0       1      0     1        0       0        BrY   \n",
       "...       ...       ...  ...     ...    ...   ...      ...     ...        ...   \n",
       "1611        0         0    0       0      0     1        0       2        DaB   \n",
       "1612        0         0    0       0      0     1        0       2        DaB   \n",
       "1613        0         0    0       0      0     1        0       2        DaB   \n",
       "1614        0         0    0       0      0     1        0       2        DaB   \n",
       "1615        0         0    0       0      0     1        1       2        DaB   \n",
       "\n",
       "                                           image_name_y         a         b  \\\n",
       "0     D:/HDRplus_dataset/train/input/0039_20141005_1...  2.180371  0.492916   \n",
       "1     D:/HDRplus_dataset/train/input/0039_20141005_1...  1.782209  0.471104   \n",
       "2     D:/HDRplus_dataset/train/input/0039_20141006_1...  2.401742  0.480185   \n",
       "3     D:/HDRplus_dataset/train/input/0039_20141006_1...  2.128302  0.490240   \n",
       "4     D:/HDRplus_dataset/train/input/0039_20141006_1...  2.004134  0.464977   \n",
       "...                                                 ...       ...       ...   \n",
       "1611  D:/HDRplus_dataset/train/input/J6ZC_20150408_1...  1.775092  0.319242   \n",
       "1612  D:/HDRplus_dataset/train/input/J6ZC_20150408_1...  1.967941  0.393955   \n",
       "1613  D:/HDRplus_dataset/train/input/J6ZC_20150408_1...  2.271451  0.340219   \n",
       "1614  D:/HDRplus_dataset/train/input/J6ZC_20150408_1...  1.596797  0.434446   \n",
       "1615  D:/HDRplus_dataset/train/input/JN34_20150327_2...  2.449118  0.398031   \n",
       "\n",
       "       mse_err luminosity  \n",
       "0     0.062531  2high lum  \n",
       "1     0.061776  2high lum  \n",
       "2     0.036913  2high lum  \n",
       "3     0.047378  2high lum  \n",
       "4     0.051888  2high lum  \n",
       "...        ...        ...  \n",
       "1611  0.061531   0low lum  \n",
       "1612  0.063236   0low lum  \n",
       "1613  0.051510   0low lum  \n",
       "1614  0.051543   0low lum  \n",
       "1615  0.014389   0low lum  \n",
       "\n",
       "[1616 rows x 17 columns]"
      ]
     },
     "execution_count": 22,
     "metadata": {},
     "output_type": "execute_result"
    }
   ],
   "source": [
    "hdrplus_df"
   ]
  },
  {
   "cell_type": "code",
   "execution_count": 23,
   "id": "6c50e948-ad83-4fc0-a86d-382ec909e382",
   "metadata": {},
   "outputs": [
    {
     "data": {
      "image/png": "[encoded data removed]",
      "text/plain": [
       "<Figure size 640x480 with 1 Axes>"
      ]
     },
     "metadata": {},
     "output_type": "display_data"
    }
   ],
   "source": [
    "plot_parameter_distribution_per_luminosity(hdrplus_df, \"a\")"
   ]
  },
  {
   "cell_type": "code",
   "execution_count": 24,
   "id": "01bd41dd-9650-4a86-93e2-f06e0a607faf",
   "metadata": {},
   "outputs": [
    {
     "data": {
      "text/html": [
       "<div>\n",
       "<style scoped>\n",
       "    .dataframe tbody tr th:only-of-type {\n",
       "        vertical-align: middle;\n",
       "    }\n",
       "\n",
       "    .dataframe tbody tr th {\n",
       "        vertical-align: top;\n",
       "    }\n",
       "\n",
       "    .dataframe thead th {\n",
       "        text-align: right;\n",
       "    }\n",
       "</style>\n",
       "<table border=\"1\" class=\"dataframe\">\n",
       "  <thead>\n",
       "    <tr style=\"text-align: right;\">\n",
       "      <th></th>\n",
       "      <th>image_name_x</th>\n",
       "      <th>image_idx</th>\n",
       "      <th>low lum</th>\n",
       "      <th>avg lum</th>\n",
       "      <th>high lum</th>\n",
       "      <th>red</th>\n",
       "      <th>yellow</th>\n",
       "      <th>green</th>\n",
       "      <th>blue</th>\n",
       "      <th>magenta</th>\n",
       "      <th>labels</th>\n",
       "      <th>label_name</th>\n",
       "      <th>image_name_y</th>\n",
       "      <th>a</th>\n",
       "      <th>b</th>\n",
       "      <th>mse_err</th>\n",
       "      <th>luminosity</th>\n",
       "    </tr>\n",
       "  </thead>\n",
       "  <tbody>\n",
       "    <tr>\n",
       "      <th>670</th>\n",
       "      <td>D:/HDRplus_dataset/train/input/6G7M_20150321_1...</td>\n",
       "      <td>1343</td>\n",
       "      <td>0</td>\n",
       "      <td>1</td>\n",
       "      <td>0</td>\n",
       "      <td>0</td>\n",
       "      <td>0</td>\n",
       "      <td>1</td>\n",
       "      <td>1</td>\n",
       "      <td>0</td>\n",
       "      <td>1</td>\n",
       "      <td>AvYB</td>\n",
       "      <td>D:/HDRplus_dataset/train/input/6G7M_20150321_1...</td>\n",
       "      <td>0.001013</td>\n",
       "      <td>6.091860e+158</td>\n",
       "      <td>0.185109</td>\n",
       "      <td>1avg lum</td>\n",
       "    </tr>\n",
       "  </tbody>\n",
       "</table>\n",
       "</div>"
      ],
      "text/plain": [
       "                                          image_name_x  image_idx  low lum  \\\n",
       "670  D:/HDRplus_dataset/train/input/6G7M_20150321_1...       1343        0   \n",
       "\n",
       "     avg lum  high lum  red  yellow  green  blue  magenta  labels label_name  \\\n",
       "670        1         0    0       0      1     1        0       1       AvYB   \n",
       "\n",
       "                                          image_name_y         a  \\\n",
       "670  D:/HDRplus_dataset/train/input/6G7M_20150321_1...  0.001013   \n",
       "\n",
       "                 b   mse_err luminosity  \n",
       "670  6.091860e+158  0.185109   1avg lum  "
      ]
     },
     "execution_count": 24,
     "metadata": {},
     "output_type": "execute_result"
    }
   ],
   "source": [
    "hdrplus_df[hdrplus_df[\"b\"] > 1e150]"
   ]
  },
  {
   "cell_type": "code",
   "execution_count": 25,
   "id": "6ca0351d-100e-46c7-8b46-eb654a100f9e",
   "metadata": {},
   "outputs": [
    {
     "data": {
      "image/png": "[encoded data removed]",
      "text/plain": [
       "<Figure size 640x480 with 1 Axes>"
      ]
     },
     "metadata": {},
     "output_type": "display_data"
    }
   ],
   "source": [
    "plot_parameter_distribution_per_luminosity(hdrplus_df, \"b\", n_bins=50)"
   ]
  },
  {
   "cell_type": "code",
   "execution_count": 26,
   "id": "2754e002-d97b-4889-9572-4a67c16505b3",
   "metadata": {},
   "outputs": [],
   "source": [
    "[a_lum, b_lum] = param_distr_per_feature(hdrplus_df, \"luminosity\")"
   ]
  },
  {
   "cell_type": "code",
   "execution_count": 27,
   "id": "a28f0671-f5e9-43a9-a275-eb1863d13fde",
   "metadata": {},
   "outputs": [
    {
     "data": {
      "image/png": "[encoded data removed]",
      "text/plain": [
       "<Figure size 640x480 with 1 Axes>"
      ]
     },
     "metadata": {},
     "output_type": "display_data"
    }
   ],
   "source": [
    "p_values_a_lum = ks_test(a_lum, [\"LOW\", \"AVG\", \"HIGH\"], plot=True, alpha=0.05, title=r\"KS test for $\\gamma$ luminosity\")"
   ]
  },
  {
   "cell_type": "code",
   "execution_count": 28,
   "id": "04155287-e4bf-4ca1-91f9-ded84e29509d",
   "metadata": {},
   "outputs": [
    {
     "data": {
      "image/png": "[encoded data removed]",
      "text/plain": [
       "<Figure size 640x480 with 1 Axes>"
      ]
     },
     "metadata": {},
     "output_type": "display_data"
    }
   ],
   "source": [
    "p_values_a_lum = ks_test(b_lum, [\"LOW\", \"AVG\", \"HIGH\"], plot=True, alpha=0.05, title=r\"KS test for $\\mu$ luminosity\")"
   ]
  },
  {
   "cell_type": "markdown",
   "id": "4f4cef8f-d6fb-4f8a-9a10-1c044ceeda3f",
   "metadata": {},
   "source": [
    "REMINDER:\n",
    "- **TRUE: p-values is smaller than 0.05**, so we reject the null hypothesis in favor of the default “two-sided” alternative: the data were not drawn from the same distribution.\n",
    "- **FALSE: p-values is higher than 0.05**, so we cannot reject the null hypothesis in favor of the default “two-sided” alternative: the data were drawn from the same distribution.\n",
    "\n",
    "For HDRplus the groups with different **luminosity** are treated different since both $\\mu$ is different from different luminosity."
   ]
  },
  {
   "cell_type": "code",
   "execution_count": 29,
   "id": "965ee1e4-e839-4565-abe1-8edf2178685b",
   "metadata": {},
   "outputs": [],
   "source": [
    "[a_cluster, b_cluster] = param_distr_per_feature(hdrplus_df, \"labels\")"
   ]
  },
  {
   "cell_type": "code",
   "execution_count": 30,
   "id": "95ab9a85-24ac-421c-b16f-2c59a7bf2e14",
   "metadata": {},
   "outputs": [
    {
     "data": {
      "image/png": "[encoded data removed]",
      "text/plain": [
       "<Figure size 640x480 with 1 Axes>"
      ]
     },
     "metadata": {},
     "output_type": "display_data"
    }
   ],
   "source": [
    "p_values_a_cluster = ks_test(a_cluster, cluster_names, plot=True, alpha=0.05)"
   ]
  },
  {
   "cell_type": "markdown",
   "id": "b72409a5-020e-4287-b56f-78061e535356",
   "metadata": {},
   "source": [
    "HDRplus seems to **treat differently images with same luminosity if the have different colors! for $\\gamma$** "
   ]
  },
  {
   "cell_type": "code",
   "execution_count": 31,
   "id": "7c22e279-2f73-41ca-9d71-825cb08ba18c",
   "metadata": {},
   "outputs": [
    {
     "data": {
      "image/png": "[encoded data removed]",
      "text/plain": [
       "<Figure size 640x480 with 1 Axes>"
      ]
     },
     "metadata": {},
     "output_type": "display_data"
    }
   ],
   "source": [
    "p_values_b_cluster = ks_test(b_cluster, cluster_names, plot=True, alpha=0.05)"
   ]
  },
  {
   "cell_type": "markdown",
   "id": "f1c76c54-87e7-40cb-aeaa-404da5fc9060",
   "metadata": {},
   "source": [
    "HDRplus seems to **treat differently images with same luminosity if the have different colors! for $\\mu$** "
   ]
  },
  {
   "cell_type": "code",
   "execution_count": 32,
   "id": "e31d42ab-7f9d-4f6c-9d6b-3507743d14e9",
   "metadata": {},
   "outputs": [
    {
     "data": {
      "text/plain": [
       "Text(0.5, 1.0, 'b')"
      ]
     },
     "execution_count": 32,
     "metadata": {},
     "output_type": "execute_result"
    },
    {
     "data": {
      "image/png": "[encoded data removed]",
      "text/plain": [
       "<Figure size 640x480 with 1 Axes>"
      ]
     },
     "metadata": {},
     "output_type": "display_data"
    }
   ],
   "source": [
    "n_bins= 100\n",
    "param = \"b\"\n",
    "\n",
    "RD_a_DaY = hdrplus_df[hdrplus_df[\"label_name\"]==\"DaY\"][param].values\n",
    "RD_a_DaY = RD_a_DaY[RD_a_DaY <= 10]\n",
    "RD_a_DaYB = hdrplus_df[hdrplus_df[\"label_name\"]==\"DaYB\"][param].values\n",
    "RD_a_DaYB = RD_a_DaYB[RD_a_DaYB <= 10]\n",
    "RD_a_DaB = hdrplus_df[hdrplus_df[\"label_name\"]==\"DaB\"][param].values\n",
    "RD_a_DaB = RD_a_DaB[RD_a_DaB <= 10]\n",
    "\n",
    "plt.hist(RD_a_DaY, n_bins, weights=np.ones(len(RD_a_DaY)) / len(RD_a_DaY), color=\"r\", label=\"DAY\",alpha=0.3)\n",
    "plt.hist(RD_a_DaYB, n_bins, weights=np.ones(len(RD_a_DaYB)) / len(RD_a_DaYB), color=\"b\", label=\"DaYB\",alpha=0.3)\n",
    "plt.hist(RD_a_DaB, n_bins, weights=np.ones(len(RD_a_DaB)) / len(RD_a_DaB), color=\"g\", label=\"DaB\",alpha=0.3)\n",
    "    \n",
    "plt.legend()\n",
    "plt.title(param)"
   ]
  },
  {
   "cell_type": "code",
   "execution_count": 33,
   "id": "08c10e33-45bb-4527-9bf1-f3a230ebf6d0",
   "metadata": {},
   "outputs": [
    {
     "data": {
      "text/plain": [
       "Text(0.5, 1.0, 'a')"
      ]
     },
     "execution_count": 33,
     "metadata": {},
     "output_type": "execute_result"
    },
    {
     "data": {
      "image/png": "[encoded data removed]",
      "text/plain": [
       "<Figure size 640x480 with 1 Axes>"
      ]
     },
     "metadata": {},
     "output_type": "display_data"
    }
   ],
   "source": [
    "n_bins= 50\n",
    "param = \"a\"\n",
    "\n",
    "RD_a_DaY = hdrplus_df[hdrplus_df[\"label_name\"]==\"DaY\"][param].values\n",
    "RD_a_DaY = RD_a_DaY[RD_a_DaY <= 10]\n",
    "RD_a_DaYB = hdrplus_df[hdrplus_df[\"label_name\"]==\"DaYB\"][param].values\n",
    "RD_a_DaYB = RD_a_DaYB[RD_a_DaYB <= 10]\n",
    "RD_a_DaB = hdrplus_df[hdrplus_df[\"label_name\"]==\"DaB\"][param].values\n",
    "RD_a_DaB = RD_a_DaB[RD_a_DaB <= 10]\n",
    "\n",
    "plt.hist(RD_a_DaY, n_bins, weights=np.ones(len(RD_a_DaY)) / len(RD_a_DaY), color=\"r\", label=\"DAY\",alpha=0.3)\n",
    "plt.hist(RD_a_DaYB, n_bins, weights=np.ones(len(RD_a_DaYB)) / len(RD_a_DaYB), color=\"b\", label=\"DaYB\",alpha=0.3)\n",
    "plt.hist(RD_a_DaB, n_bins, weights=np.ones(len(RD_a_DaB)) / len(RD_a_DaB), color=\"g\", label=\"DaB\",alpha=0.3)\n",
    "    \n",
    "plt.legend()\n",
    "plt.title(param)"
   ]
  }
 ],
 "metadata": {
  "kernelspec": {
   "display_name": "Python 3 (ipykernel)",
   "language": "python",
   "name": "python3"
  },
  "language_info": {
   "codemirror_mode": {
    "name": "ipython",
    "version": 3
   },
   "file_extension": ".py",
   "mimetype": "text/x-python",
   "name": "python",
   "nbconvert_exporter": "python",
   "pygments_lexer": "ipython3",
   "version": "3.11.4"
  }
 },
 "nbformat": 4,
 "nbformat_minor": 5
}
