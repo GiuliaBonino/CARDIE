{
 "cells": [
  {
   "cell_type": "markdown",
   "id": "41659e6e-250b-4bee-8d8c-f29fc9078568",
   "metadata": {},
   "source": [
    "# KS ANALYSIS FOR SCENES365 HDRPLUS\n",
    "\n",
    "\n",
    "The effect of the image enhancement operator is computed using this function: \n",
    "\n",
    "\\begin{equation}\n",
    "L_{\\mathrm{out}} = \\frac{L_{\\mathrm{in}}^{\\gamma}}{L_{\\mathrm{in}}^{\\gamma} + \\mu^{\\gamma}} \n",
    "\\end{equation}\n",
    "\n",
    "See paper for more details"
   ]
  },
  {
   "cell_type": "code",
   "execution_count": 1,
   "id": "f4b26a7e-d791-46ba-b787-aaf1af9fb92f",
   "metadata": {},
   "outputs": [],
   "source": [
    "import pandas as pd\n",
    "import numpy as np\n",
    "import matplotlib.pyplot as plt\n",
    "from scipy import stats\n",
    "import seaborn as sns\n",
    "import matplotlib.pylab as plt\n",
    "from matplotlib.colors import LinearSegmentedColormap"
   ]
  },
  {
   "cell_type": "code",
   "execution_count": 2,
   "id": "a1473fb5-e9b4-4647-8d65-8f6ff36c9f0d",
   "metadata": {},
   "outputs": [],
   "source": [
    "def cluster_names(df,\n",
    "                  column_names,\n",
    "                  red_column_names,\n",
    "                  name_thr=0.6,\n",
    "                  add_names_column=True):\n",
    "    \n",
    "    df_labels = list(set(df[\"labels\"].values))\n",
    "    \n",
    "    cluster_names = []\n",
    "    cluster_counts = []\n",
    "    \n",
    "    for label in df_labels:\n",
    "        df_cluster = df[df[\"labels\"]==label]\n",
    "        \n",
    "        df_cluster_counts = df_cluster[column_names].sum().values / len(df_cluster)\n",
    "        df_cluster_counts = np.where(df_cluster_counts <= name_thr, df_cluster_counts, 1.0)\n",
    "        df_cluster_counts = np.where(df_cluster_counts > name_thr, df_cluster_counts, 0.0)\n",
    "        \n",
    "        clust_name = \"\"\n",
    "        for j, count in enumerate(df_cluster_counts):   \n",
    "            if count == 1:\n",
    "                clust_name += red_column_names[j] \n",
    "        \n",
    "        cluster_names.append(clust_name)\n",
    "        cluster_counts.append(df_cluster_counts)\n",
    "        \n",
    "      \n",
    "    cluster_names =  cluster_names[:-1] + [\"UN\"]\n",
    "\n",
    "    if add_names_column:\n",
    "        map_label_names = {}\n",
    "        \n",
    "        for j, c_name in enumerate(cluster_names):\n",
    "            if j == len(cluster_names)-1:\n",
    "                j = -1\n",
    "            map_label_names[j] = c_name\n",
    "        \n",
    "        df[\"label_name\"] = df[\"labels\"].map(map_label_names)\n",
    "\n",
    "    return cluster_names, cluster_counts"
   ]
  },
  {
   "cell_type": "code",
   "execution_count": 3,
   "id": "8aff54e1-ef1d-4709-89b0-d7657dfceb53",
   "metadata": {},
   "outputs": [],
   "source": [
    "def assign_luminosity_level(df):\n",
    "    df[\"luminosity\"] = [\"0low lum\"]*len(df)\n",
    "    df.loc[df[\"avg lum\"] == 1 , \"luminosity\"] = \"1avg lum\"\n",
    "    df.loc[df[\"high lum\"] == 1 , \"luminosity\"] = \"2high lum\"\n",
    "    return None"
   ]
  },
  {
   "cell_type": "code",
   "execution_count": 4,
   "id": "c7e10358-78e5-407e-a62a-324e9ecc13db",
   "metadata": {},
   "outputs": [],
   "source": [
    "def plot_parameter_distribution_per_light_source(df, param=\"a\", n_bins=50):\n",
    "    df = df[df[\"b\"] < 1e10]\n",
    "    df = df[df[\"a\"] < 1e10]\n",
    "    RD_a_low = df[df[\"light_source\"]==\"indoor\"][param].values\n",
    "    RD_a_high = df[df[\"light_source\"]==\"outdoor\"][param].values\n",
    "    \n",
    "    plt.hist(RD_a_low, n_bins, weights=np.ones(len(RD_a_low)) / len(RD_a_low), color=\"r\", label=\"indoor\",alpha=0.3)\n",
    "    plt.hist(RD_a_high, n_bins, weights=np.ones(len(RD_a_high)) / len(RD_a_high), color=\"g\", label=\"outdoor\",alpha=0.3)\n",
    "    \n",
    "    plt.legend()\n",
    "    if param == \"a\":\n",
    "        title = r\"$\\gamma$\"\n",
    "    elif param == \"b\":\n",
    "        title = r\"$\\mu$\"\n",
    "    else:\n",
    "        title = param\n",
    "    plt.title(title)"
   ]
  },
  {
   "cell_type": "code",
   "execution_count": 5,
   "id": "bcded56a-b3be-46a5-bff8-2456c93c48bc",
   "metadata": {},
   "outputs": [],
   "source": [
    "def plot_parameter_distribution_per_luminosity(df, param=\"a\", n_bins=50):\n",
    "    df = df[df[\"b\"] < 1e10]\n",
    "    df = df[df[\"a\"] < 1e10]\n",
    "    RD_a_low = df[df[\"luminosity\"]==\"0low lum\"][param].values\n",
    "    RD_a_avg = df[df[\"luminosity\"]==\"1avg lum\"][param].values\n",
    "    RD_a_high = df[df[\"luminosity\"]==\"2high lum\"][param].values\n",
    "    \n",
    "    plt.hist(RD_a_low, n_bins, weights=np.ones(len(RD_a_low)) / len(RD_a_low), color=\"r\", label=\"low\",alpha=0.3)\n",
    "    plt.hist(RD_a_avg, n_bins, weights=np.ones(len(RD_a_avg)) / len(RD_a_avg), color=\"b\", label=\"avg\",alpha=0.3)\n",
    "    plt.hist(RD_a_high, n_bins, weights=np.ones(len(RD_a_high)) / len(RD_a_high), color=\"g\", label=\"low\",alpha=0.3)\n",
    "    \n",
    "    plt.legend()\n",
    "    if param == \"a\":\n",
    "        title = r\"$\\gamma$\"\n",
    "    elif param == \"b\":\n",
    "        title = r\"$\\mu$\"\n",
    "    else:\n",
    "        title = param\n",
    "    plt.title(title)"
   ]
  },
  {
   "cell_type": "code",
   "execution_count": 6,
   "id": "9885e540-f6c0-4dc8-bb2d-733f48d4b155",
   "metadata": {},
   "outputs": [],
   "source": [
    "def param_distr_per_feature(df, feature):\n",
    "    \n",
    "    features = list(set(df[feature].values))\n",
    "    print(features)\n",
    "    a_feature = []\n",
    "    b_feature = []\n",
    "    \n",
    "    for j in features:\n",
    "        a_feature.append(df[df[feature]==j][\"a\"].values)\n",
    "        b_feature.append(df[df[feature]==j][\"b\"].values)\n",
    "\n",
    "    return a_feature, b_feature"
   ]
  },
  {
   "cell_type": "code",
   "execution_count": 7,
   "id": "4b5db0d1-f851-46c1-a2ba-1e2d752e0aa0",
   "metadata": {},
   "outputs": [],
   "source": [
    "def ks_test(p_distributions, p_names, plot=True, alpha=0.05, title=None, cbar=False, save_path=''):\n",
    "    \n",
    "    p_values = []\n",
    "    \n",
    "    for i in range(len(p_distributions)):\n",
    "        p_value_i = []\n",
    "        for k in range(len(p_distributions)):\n",
    "            p_value_ij = stats.ks_2samp(p_distributions[i], p_distributions[k])[1] <= alpha\n",
    "            p_value_i.append(p_value_ij)\n",
    "        p_values.append(p_value_i)\n",
    "        \n",
    "    if plot:\n",
    "        mask = np.zeros_like(p_values)\n",
    "        mask[np.triu_indices_from(mask)] = True\n",
    "        \n",
    "        colors = [\"red\", \"green\"] \n",
    "        cmap = LinearSegmentedColormap.from_list('Custom', colors, len(colors))\n",
    "        \n",
    "        ax = sns.heatmap(p_values, mask=mask, linewidth=0.5, xticklabels=p_names, yticklabels=p_names, cmap=cmap, vmin=0.0, vmax=1.0, cbar=cbar)\n",
    "\n",
    "        if cbar == True:\n",
    "            colorbar = ax.collections[0].colorbar\n",
    "            colorbar.set_ticks([0.25,0.75])\n",
    "            colorbar.set_ticklabels(['False', 'True'])\n",
    "        \n",
    "        ax.set_title(title)\n",
    "        \n",
    "        if save_path != '':\n",
    "            plt.savefig(save_path)\n",
    "            \n",
    "    return p_values"
   ]
  },
  {
   "cell_type": "code",
   "execution_count": 8,
   "id": "8dce441c-b4ec-48ca-b984-b48739486a2b",
   "metadata": {},
   "outputs": [],
   "source": [
    "def plot_a_b_per_group(df, group_name, q_low=0.40, q_high=0.60):\n",
    "    \n",
    "    median_fits_values = df[[\"a\", \"b\", \"mse_err\", group_name]].groupby(group_name, as_index=False).quantile()\n",
    "    median_fits_values_low = df[[\"a\", \"b\", \"mse_err\", group_name]].groupby(group_name, as_index=False).quantile(q=q_low)\n",
    "    median_fits_values_high = df[[\"a\", \"b\", \"mse_err\", group_name]].groupby(group_name, as_index=False).quantile(q=q_high)\n",
    "    \n",
    "    for j in range(len(median_fits_values)):\n",
    "        \n",
    "        aerr = (median_fits_values_high.iloc[j][\"a\"] - median_fits_values_low.iloc[j][\"a\"])/2.\n",
    "        berr = (median_fits_values_high.iloc[j][\"b\"] - median_fits_values_low.iloc[j][\"b\"])/2.0\n",
    "        \n",
    "        plt.errorbar(median_fits_values.iloc[j][\"a\"],\n",
    "             median_fits_values.iloc[j][\"b\"],\n",
    "             xerr=aerr,\n",
    "             yerr=berr,\n",
    "             fmt=\"o\",\n",
    "             label=median_fits_values.iloc[j][group_name])\n",
    "        \n",
    "    plt.xlabel(r\"$\\gamma$\")\n",
    "    plt.ylabel(r\"$\\mu$\")\n",
    "    plt.legend()\n",
    "    plt.show()"
   ]
  },
  {
   "cell_type": "code",
   "execution_count": 9,
   "id": "d06acf42-7a89-48f6-8445-926ddde16271",
   "metadata": {},
   "outputs": [],
   "source": [
    "scenes_df_mit5k = pd.read_csv(\"../data/clusters/scene_cat_attr_mit5k_input_train.csv\")"
   ]
  },
  {
   "cell_type": "code",
   "execution_count": 10,
   "id": "d8b7c1a6-d685-414d-81a4-9d70e1bcb37e",
   "metadata": {},
   "outputs": [],
   "source": [
    "lights = []\n",
    "\n",
    "for k, image_attributes in enumerate(scenes_df_mit5k[\"attributes\"].values):\n",
    "    if 'natural ligh' in image_attributes:\n",
    "        lights.append('outdoor')\n",
    "    elif 'indoor' in image_attributes:\n",
    "        lights.append('indoor')\n",
    "    else:\n",
    "        lights.append('NaN')"
   ]
  },
  {
   "cell_type": "code",
   "execution_count": 11,
   "id": "4879d302-7272-49a8-abdd-a7647b869ff3",
   "metadata": {},
   "outputs": [],
   "source": [
    "scenes_df_mit5k[\"light_source\"] = lights\n",
    "scenes_df_mit5k = scenes_df_mit5k[scenes_df_mit5k[\"light_source\"] != 'NaN']"
   ]
  },
  {
   "cell_type": "code",
   "execution_count": 12,
   "id": "b42b0bc3-4e5e-44e8-9f3e-4c7c9522d250",
   "metadata": {},
   "outputs": [],
   "source": [
    "areas = []\n",
    "\n",
    "for k, image_attributes in enumerate(scenes_df_mit5k[\"attributes\"].values):\n",
    "    if 'open' in image_attributes:\n",
    "        areas.append('open')\n",
    "    elif 'enclosed' in image_attributes:\n",
    "        areas.append('enclosed')\n",
    "    elif 'semi-enclosed' in image_attributes:\n",
    "        areas.append('semi-enclosed')\n",
    "    else:\n",
    "        areas.append('NaN')\n",
    "\n",
    "scenes_df_mit5k[\"area\"] = areas\n",
    "scenes_df_mit5k = scenes_df_mit5k[scenes_df_mit5k[\"area\"] != 'NaN']"
   ]
  },
  {
   "cell_type": "code",
   "execution_count": 13,
   "id": "11dac536-1fbd-4728-82da-01c4d0053024",
   "metadata": {},
   "outputs": [],
   "source": [
    "built = []\n",
    "\n",
    "for k, image_attributes in enumerate(scenes_df_mit5k[\"attributes\"].values):\n",
    "    if 'man-mad' in image_attributes:\n",
    "        built.append('man-made')\n",
    "    elif 'natura' in image_attributes:\n",
    "        built.append('natura')\n",
    "    else:\n",
    "        built.append('NaN')\n",
    "\n",
    "scenes_df_mit5k[\"built\"] = built\n",
    "scenes_df_mit5k = scenes_df_mit5k[scenes_df_mit5k[\"built\"] != 'NaN']"
   ]
  },
  {
   "cell_type": "code",
   "execution_count": 14,
   "id": "48160bfc-18d9-4189-abb4-c6e41d7c394c",
   "metadata": {},
   "outputs": [],
   "source": [
    "scary = []\n",
    "\n",
    "for k, image_attributes in enumerate(scenes_df_mit5k[\"attributes\"].values):\n",
    "    if 'scary' in image_attributes:\n",
    "        scary.append('scary')\n",
    "    else:\n",
    "        scary.append('not_scary')\n",
    "\n",
    "scenes_df_mit5k[\"scary\"] = scary"
   ]
  },
  {
   "cell_type": "code",
   "execution_count": 15,
   "id": "2b8b8223-1b57-4e0d-ad98-578d67449ef8",
   "metadata": {},
   "outputs": [],
   "source": [
    "working = []\n",
    "\n",
    "for k, image_attributes in enumerate(scenes_df_mit5k[\"attributes\"].values):\n",
    "    if 'working' in image_attributes:\n",
    "        working.append('working')\n",
    "    else:\n",
    "        working.append('not_working')\n",
    "\n",
    "scenes_df_mit5k[\"working\"] = working"
   ]
  },
  {
   "cell_type": "code",
   "execution_count": 16,
   "id": "73bd963b-85d2-49f2-b591-bc3458e764a0",
   "metadata": {},
   "outputs": [
    {
     "data": {
      "text/html": [
       "<div>\n",
       "<style scoped>\n",
       "    .dataframe tbody tr th:only-of-type {\n",
       "        vertical-align: middle;\n",
       "    }\n",
       "\n",
       "    .dataframe tbody tr th {\n",
       "        vertical-align: top;\n",
       "    }\n",
       "\n",
       "    .dataframe thead th {\n",
       "        text-align: right;\n",
       "    }\n",
       "</style>\n",
       "<table border=\"1\" class=\"dataframe\">\n",
       "  <thead>\n",
       "    <tr style=\"text-align: right;\">\n",
       "      <th></th>\n",
       "      <th>built</th>\n",
       "      <th>image_name</th>\n",
       "    </tr>\n",
       "  </thead>\n",
       "  <tbody>\n",
       "    <tr>\n",
       "      <th>0</th>\n",
       "      <td>natura</td>\n",
       "      <td>153</td>\n",
       "    </tr>\n",
       "    <tr>\n",
       "      <th>1</th>\n",
       "      <td>man-made</td>\n",
       "      <td>578</td>\n",
       "    </tr>\n",
       "  </tbody>\n",
       "</table>\n",
       "</div>"
      ],
      "text/plain": [
       "      built  image_name\n",
       "0    natura         153\n",
       "1  man-made         578"
      ]
     },
     "execution_count": 16,
     "metadata": {},
     "output_type": "execute_result"
    }
   ],
   "source": [
    "scenes_df_mit5k[[\"image_name\", \"built\"]].groupby(\"built\", as_index=False, sort=False).count()"
   ]
  },
  {
   "cell_type": "code",
   "execution_count": 17,
   "id": "e7a763ee-a703-47e3-8726-5a9bced2af20",
   "metadata": {},
   "outputs": [],
   "source": [
    "scenes_df_mit5k[\"light_built\"] = scenes_df_mit5k[\"light_source\"] + '_' + scenes_df_mit5k[\"built\"]"
   ]
  },
  {
   "cell_type": "code",
   "execution_count": 18,
   "id": "c44cc848-b6b7-4f3b-88c0-ea2ac97e8ca3",
   "metadata": {},
   "outputs": [
    {
     "data": {
      "text/plain": [
       "'natural light#open area#rugged scene#dry#natural#rock#climbing#dirt#sunny#hikin'"
      ]
     },
     "execution_count": 18,
     "metadata": {},
     "output_type": "execute_result"
    }
   ],
   "source": [
    "scenes_df_mit5k[\"attributes\"].iloc[0]"
   ]
  },
  {
   "cell_type": "code",
   "execution_count": 19,
   "id": "5a627ff6-b6af-4da7-b5e6-fd8482ddd2dd",
   "metadata": {},
   "outputs": [
    {
     "data": {
      "text/html": [
       "<div>\n",
       "<style scoped>\n",
       "    .dataframe tbody tr th:only-of-type {\n",
       "        vertical-align: middle;\n",
       "    }\n",
       "\n",
       "    .dataframe tbody tr th {\n",
       "        vertical-align: top;\n",
       "    }\n",
       "\n",
       "    .dataframe thead th {\n",
       "        text-align: right;\n",
       "    }\n",
       "</style>\n",
       "<table border=\"1\" class=\"dataframe\">\n",
       "  <thead>\n",
       "    <tr style=\"text-align: right;\">\n",
       "      <th></th>\n",
       "      <th>area</th>\n",
       "      <th>image_name</th>\n",
       "    </tr>\n",
       "  </thead>\n",
       "  <tbody>\n",
       "    <tr>\n",
       "      <th>0</th>\n",
       "      <td>open</td>\n",
       "      <td>499</td>\n",
       "    </tr>\n",
       "    <tr>\n",
       "      <th>1</th>\n",
       "      <td>enclosed</td>\n",
       "      <td>232</td>\n",
       "    </tr>\n",
       "  </tbody>\n",
       "</table>\n",
       "</div>"
      ],
      "text/plain": [
       "       area  image_name\n",
       "0      open         499\n",
       "1  enclosed         232"
      ]
     },
     "execution_count": 19,
     "metadata": {},
     "output_type": "execute_result"
    }
   ],
   "source": [
    "scenes_df_mit5k[[\"image_name\", \"area\"]].groupby(\"area\", as_index=False, sort=False).count()"
   ]
  },
  {
   "cell_type": "code",
   "execution_count": 20,
   "id": "8888977b-296c-4964-aafd-6d04909913cd",
   "metadata": {},
   "outputs": [],
   "source": [
    "scenes_df_mit5k[\"light_area\"] = scenes_df_mit5k[\"light_source\"] + '_' + scenes_df_mit5k[\"area\"]"
   ]
  },
  {
   "cell_type": "code",
   "execution_count": 21,
   "id": "8719d3dd-2943-43da-b6fb-e0621a3307c8",
   "metadata": {},
   "outputs": [],
   "source": [
    "scenes_df_mit5k[\"main_attribute\"] = [attributes.split(\"#\")[0] for attributes in scenes_df_mit5k[\"attributes\"]]\n",
    "scenes_df_mit5k[\"main_category\"] = [attributes.split(\"#\")[0] for attributes in scenes_df_mit5k[\"categories\"]]"
   ]
  },
  {
   "cell_type": "code",
   "execution_count": 22,
   "id": "e45c7b94-a24a-49b0-b52a-131ab4effc02",
   "metadata": {},
   "outputs": [],
   "source": [
    "#most_common_attr = [\"man-made\", \"natural light\", \"no horizon\", \"open area\"] "
   ]
  },
  {
   "cell_type": "code",
   "execution_count": 23,
   "id": "ae3261e0-3eff-48c5-966a-f46f22c2d63e",
   "metadata": {},
   "outputs": [],
   "source": [
    "#scenes_df_hdrplus[\"main_attribute\"] = [attribute if attribute in most_common_attr else 'None' for attribute in scenes_df_hdrplus[\"main_attribute\"]]"
   ]
  },
  {
   "cell_type": "code",
   "execution_count": 24,
   "id": "62472b52-4cf1-48c5-9e12-96bf672ceacf",
   "metadata": {},
   "outputs": [],
   "source": [
    "#scenes_df_hdrplus_count = scenes_df_hdrplus[[\"image_name\", \"main_category\"]].groupby(\"main_category\", as_index=False, sort=False).count()\n",
    "#scenes_df_hdrplus_count.sort_values(by=[\"image_name\"], ascending=False)"
   ]
  },
  {
   "cell_type": "code",
   "execution_count": 25,
   "id": "c7106611-4618-45d3-93db-62fde012ed6b",
   "metadata": {},
   "outputs": [],
   "source": [
    "#most_common_cat = [\"church/indoor\", \"desert/vegetation\", \"forest/broadleaf\", \"desert/sand\"]\n",
    "\n",
    "#scenes_df_hdrplus[\"main_category\"] = [cat if cat in most_common_cat else 'None' for cat in scenes_df_hdrplus[\"main_category\"]]"
   ]
  },
  {
   "cell_type": "code",
   "execution_count": 26,
   "id": "e52e9343-5fcc-4baf-baeb-b5455107bf83",
   "metadata": {},
   "outputs": [],
   "source": [
    "expertcTMO_df = pd.read_csv(\"../data/fit_luminance/mit5k_fits_expertc_non_linear1.csv\")"
   ]
  },
  {
   "cell_type": "code",
   "execution_count": 27,
   "id": "62f3f04f-b029-47b3-977f-8382ee9e83a1",
   "metadata": {},
   "outputs": [],
   "source": [
    "expertcTMO_merge = pd.merge(scenes_df_mit5k, expertcTMO_df,  how=\"inner\", on=\"image_idx\")"
   ]
  },
  {
   "cell_type": "code",
   "execution_count": 28,
   "id": "615de2ca-94c1-4dfd-8cae-82e3b84b5e69",
   "metadata": {},
   "outputs": [
    {
     "data": {
      "text/plain": [
       "731"
      ]
     },
     "execution_count": 28,
     "metadata": {},
     "output_type": "execute_result"
    }
   ],
   "source": [
    "len(expertcTMO_merge)"
   ]
  },
  {
   "cell_type": "code",
   "execution_count": 29,
   "id": "61986320-21b2-41e5-81f0-357b541698b1",
   "metadata": {},
   "outputs": [
    {
     "data": {
      "text/html": [
       "<div>\n",
       "<style scoped>\n",
       "    .dataframe tbody tr th:only-of-type {\n",
       "        vertical-align: middle;\n",
       "    }\n",
       "\n",
       "    .dataframe tbody tr th {\n",
       "        vertical-align: top;\n",
       "    }\n",
       "\n",
       "    .dataframe thead th {\n",
       "        text-align: right;\n",
       "    }\n",
       "</style>\n",
       "<table border=\"1\" class=\"dataframe\">\n",
       "  <thead>\n",
       "    <tr style=\"text-align: right;\">\n",
       "      <th></th>\n",
       "      <th>light_built</th>\n",
       "      <th>image_idx</th>\n",
       "    </tr>\n",
       "  </thead>\n",
       "  <tbody>\n",
       "    <tr>\n",
       "      <th>0</th>\n",
       "      <td>outdoor_natura</td>\n",
       "      <td>151</td>\n",
       "    </tr>\n",
       "    <tr>\n",
       "      <th>1</th>\n",
       "      <td>outdoor_man-made</td>\n",
       "      <td>439</td>\n",
       "    </tr>\n",
       "    <tr>\n",
       "      <th>2</th>\n",
       "      <td>indoor_man-made</td>\n",
       "      <td>139</td>\n",
       "    </tr>\n",
       "    <tr>\n",
       "      <th>3</th>\n",
       "      <td>indoor_natura</td>\n",
       "      <td>2</td>\n",
       "    </tr>\n",
       "  </tbody>\n",
       "</table>\n",
       "</div>"
      ],
      "text/plain": [
       "        light_built  image_idx\n",
       "0    outdoor_natura        151\n",
       "1  outdoor_man-made        439\n",
       "2   indoor_man-made        139\n",
       "3     indoor_natura          2"
      ]
     },
     "execution_count": 29,
     "metadata": {},
     "output_type": "execute_result"
    }
   ],
   "source": [
    "expertcTMO_merge[[\"image_idx\", \"light_built\"]].groupby(\"light_built\", as_index=False, sort=False).count()"
   ]
  },
  {
   "cell_type": "code",
   "execution_count": 30,
   "id": "06b05223-b3ce-4b81-80bb-6e96a2d2ed34",
   "metadata": {},
   "outputs": [
    {
     "data": {
      "text/plain": [
       "0.023192360163710776"
      ]
     },
     "execution_count": 30,
     "metadata": {},
     "output_type": "execute_result"
    }
   ],
   "source": [
    "(13+4) / (152+440+139+2)"
   ]
  },
  {
   "cell_type": "code",
   "execution_count": 31,
   "id": "0fd682b9-5257-4c8f-8f9b-bebce97de205",
   "metadata": {},
   "outputs": [],
   "source": [
    "expertcTMO_merge = expertcTMO_merge[expertcTMO_merge[\"light_built\"] != \"indoor_natura\"]"
   ]
  },
  {
   "cell_type": "code",
   "execution_count": 32,
   "id": "adf7ef5e-b670-48de-bc5b-3b27001dc25d",
   "metadata": {},
   "outputs": [
    {
     "data": {
      "text/plain": [
       "729"
      ]
     },
     "execution_count": 32,
     "metadata": {},
     "output_type": "execute_result"
    }
   ],
   "source": [
    "len(expertcTMO_merge) "
   ]
  },
  {
   "cell_type": "code",
   "execution_count": 33,
   "id": "f30f735f-3841-4164-a4e4-440e485ea9c0",
   "metadata": {},
   "outputs": [
    {
     "data": {
      "image/png": "[encoded data removed]",
      "text/plain": [
       "<Figure size 640x480 with 1 Axes>"
      ]
     },
     "metadata": {},
     "output_type": "display_data"
    }
   ],
   "source": [
    "plot_a_b_per_group(expertcTMO_merge, \"light_built\")"
   ]
  },
  {
   "cell_type": "code",
   "execution_count": 34,
   "id": "685a49f6-6849-42ad-8cf8-2f5edb7c079a",
   "metadata": {},
   "outputs": [
    {
     "name": "stdout",
     "output_type": "stream",
     "text": [
      "['outdoor_natura', 'indoor_man-made', 'outdoor_man-made']\n"
     ]
    }
   ],
   "source": [
    "[a_lum_mit5k_light_area, b_lum_mit5k_light_area] = param_distr_per_feature(expertcTMO_merge, \"light_built\")"
   ]
  },
  {
   "cell_type": "code",
   "execution_count": 35,
   "id": "5c3367e4-6875-4e03-a345-a73227d54fe0",
   "metadata": {},
   "outputs": [
    {
     "data": {
      "image/png": "[encoded data removed]",
      "text/plain": [
       "<Figure size 640x480 with 1 Axes>"
      ]
     },
     "metadata": {},
     "output_type": "display_data"
    }
   ],
   "source": [
    "p_values_a_lum = ks_test(a_lum_mit5k_light_area, ['indoor_man-made', 'outdoor_natura', 'outdoor_man-made'], plot=True, alpha=0.05)"
   ]
  },
  {
   "cell_type": "code",
   "execution_count": 36,
   "id": "eeb138cc-c9b3-42af-a28c-a4bd3e9ada9a",
   "metadata": {},
   "outputs": [
    {
     "data": {
      "image/png": "[encoded data removed]",
      "text/plain": [
       "<Figure size 640x480 with 1 Axes>"
      ]
     },
     "metadata": {},
     "output_type": "display_data"
    }
   ],
   "source": [
    "p_values_b_lum = ks_test(b_lum_mit5k_light_area, ['indoor_man-made', 'outdoor_natura', 'outdoor_man-made'], plot=True, alpha=0.05)"
   ]
  },
  {
   "cell_type": "markdown",
   "id": "401a34fb-e341-4614-868c-c2deea036d76",
   "metadata": {},
   "source": [
    "OUTDOOR VS INDOOR IS DIFFERENT"
   ]
  }
 ],
 "metadata": {
  "kernelspec": {
   "display_name": "Python 3 (ipykernel)",
   "language": "python",
   "name": "python3"
  },
  "language_info": {
   "codemirror_mode": {
    "name": "ipython",
    "version": 3
   },
   "file_extension": ".py",
   "mimetype": "text/x-python",
   "name": "python",
   "nbconvert_exporter": "python",
   "pygments_lexer": "ipython3",
   "version": "3.11.4"
  }
 },
 "nbformat": 4,
 "nbformat_minor": 5
}
